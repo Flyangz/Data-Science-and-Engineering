{
 "cells": [
  {
   "cell_type": "markdown",
   "metadata": {},
   "source": [
    "# Warm-up  \n",
    "Assume s is a string of lower case characters. Write a program that prints the longest substring of s in which the letters occur in alphabetical order. "
   ]
  },
  {
   "cell_type": "code",
   "execution_count": 1,
   "metadata": {
    "collapsed": true
   },
   "outputs": [],
   "source": [
    "def test(test_code):\n",
    "    ans_list = []\n",
    "    err_ind = []\n",
    "    count = 0\n",
    "    # Record your answer\n",
    "    for i in test_list:   \n",
    "        ans_list.append(test_code(i))\n",
    "\n",
    "    # Correct your answer\n",
    "    for i,j in zip(true_list,ans_list):\n",
    "        if i != j:\n",
    "            err_ind.append(true_list.index(i))\n",
    "            count +=1\n",
    "    # Generate the result\n",
    "    if count == 0:\n",
    "        print('Perfect!')\n",
    "    else:\n",
    "        print(\"The error rate\", count,\"/\",len(test_list))\n",
    "        a=0\n",
    "        for i in err_ind:\n",
    "            a +=1\n",
    "            print('%d.' %a)\n",
    "            print(\"The testing object: \", test_list[i])\n",
    "            print('The correct answer: ', true_list[i])\n",
    "            print('Your answer: ', ans_list[i])"
   ]
  },
  {
   "cell_type": "code",
   "execution_count": 2,
   "metadata": {
    "collapsed": false
   },
   "outputs": [
    {
     "name": "stdout",
     "output_type": "stream",
     "text": [
      "Perfect!\n"
     ]
    }
   ],
   "source": [
    "def longest_substr(s):\n",
    "    maxSub, currentSub, previousChar = '', '', ''\n",
    "    for char in s:\n",
    "        if char >= previousChar:\n",
    "            currentSub = currentSub + char\n",
    "            if len(currentSub) > len(maxSub):\n",
    "                maxSub = currentSub\n",
    "        else: currentSub = char\n",
    "        previousChar = char\n",
    "    return maxSub\n",
    "\n",
    "if __name__=='__main__':\n",
    "    test_list = ['rauxmjnszfqvmzvqddp','hcqgrksrs','zczegjkneyvbdpydachtqpme','ubbpgrdrpfmfh']\n",
    "    true_list = ['jnsz','cq','egjkn','bbp']\n",
    "    test(longest_substr)"
   ]
  }
 ],
 "metadata": {
  "anaconda-cloud": {},
  "kernelspec": {
   "display_name": "Python [default]",
   "language": "python",
   "name": "python3"
  },
  "language_info": {
   "codemirror_mode": {
    "name": "ipython",
    "version": 3
   },
   "file_extension": ".py",
   "mimetype": "text/x-python",
   "name": "python",
   "nbconvert_exporter": "python",
   "pygments_lexer": "ipython3",
   "version": "3.5.2"
  }
 },
 "nbformat": 4,
 "nbformat_minor": 1
}
