{
 "cells": [
  {
   "cell_type": "markdown",
   "metadata": {},
   "source": [
    "# 1.Greedy Cow Transport\n",
    "One way of transporting cows is to always pick the heaviest cow that will fit onto the spaceship first. This is an example of a greedy algorithm. So if there are only 2 tons of free space on your spaceship, with one cow that's 3 tons and another that's 1 ton, the 1 ton cow will get put onto the spaceship.  \n",
    "\n",
    "Implement a greedy algorithm for transporting the cows back across space in the function greedy_cow_transport. The function returns a list of lists, where each inner list represents a trip and contains the names of cows taken on that trip.  \n",
    "\n",
    "Note: Make sure not to mutate the dictionary of cows that is passed in!\n",
    "\n",
    "**Assumptions:**\n",
    "\n",
    "* The order of the list of trips does not matter. That is, [[1,2],[3,4]] and [[3,4],[1,2]] are considered equivalent lists of trips.\n",
    "* All the cows are between 0 and 100 tons in weight.\n",
    "* All the cows have unique names.\n",
    "* If multiple cows weigh the same amount, break ties arbitrarily.\n",
    "* The spaceship has a cargo weight limit (in tons), which is passed into the function as a parameter.\n",
    "\n",
    "**Example:**\n",
    "\n",
    "Suppose the spaceship has a weight limit of 10 tons and the set of cows to transport is {\"Jesse\": 6, \"Maybel\": 3, \"Callie\": 2, \"Maggie\": 5}.\n",
    "\n",
    "The greedy algorithm will first pick Jesse as the heaviest cow for the first trip. There is still space for 4 tons on the trip. Since Maggie will not fit on this trip, the greedy algorithm picks Maybel, the heaviest cow that will still fit. Now there is only 1 ton of space left, and none of the cows can fit in that space, so the first trip is [Jesse, Maybel].\n",
    "\n",
    "For the second trip, the greedy algorithm first picks Maggie as the heaviest remaining cow, and then picks Callie as the last cow. Since they will both fit, this makes the second trip [[Maggie], [Callie]].\n",
    "\n",
    "The final result then is [[\"Jesse\", \"Maybel\"], [\"Maggie\", \"Callie\"]]."
   ]
  },
  {
   "cell_type": "code",
   "execution_count": null,
   "metadata": {
    "collapsed": true
   },
   "outputs": [],
   "source": [
    "def greedy_cow_transport(cows,limit=10):\n",
    "    \"\"\"\n",
    "    Uses a greedy heuristic to determine an allocation of cows that attempts to\n",
    "    minimize the number of spaceship trips needed to transport all the cows. The\n",
    "    returned allocation of cows may or may not be optimal.\n",
    "    The greedy heuristic should follow the following method:\n",
    "\n",
    "    1. As long as the current trip can fit another cow, add the largest cow that will fit\n",
    "        to the trip\n",
    "    2. Once the trip is full, begin a new trip to transport the remaining cows\n",
    "\n",
    "    Does not mutate the given dictionary of cows.\n",
    "\n",
    "    Parameters:\n",
    "    cows - a dictionary of name (string), weight (int) pairs\n",
    "    limit - weight limit of the spaceship (an int)\n",
    "    \n",
    "    Returns:\n",
    "    A list of lists, with each inner list containing the names of cows\n",
    "    transported on a particular trip and the overall list containing all the\n",
    "    trips\n",
    "    \"\"\"\n",
    "    itemsCopy = sorted(cows, key = cows.get, reverse = True)\n",
    "    result, trip = [],[]\n",
    "    totalWeight = 0.0\n",
    "    while itemsCopy != []:\n",
    "        for i in itemsCopy:\n",
    "            if totalWeight + cows[i] <= limit:\n",
    "                result.append(i)\n",
    "                totalWeight += cows[i]\n",
    "        for i in result:            \n",
    "            itemsCopy.remove(i)\n",
    "        trip.append(result)\n",
    "        result = []\n",
    "        totalWeight = 0.0\n",
    "    return trip"
   ]
  },
  {
   "cell_type": "markdown",
   "metadata": {},
   "source": [
    "# 2.Greedy Cow Transport\n",
    "Another way to transport the cows is to look at every possible combination of trips and pick the best one. This is an example of a brute force algorithm.\n",
    "\n",
    "Implement a brute force algorithm to find the minimum number of trips needed to take all the cows across the universe in the function brute_force_cow_transport. The function returns a list of lists, where each inner list represents a trip and contains the names of cows taken on that trip.\n",
    "\n",
    "**Notes:**\n",
    "\n",
    "* Make sure not to mutate the dictionary of cows!\n",
    "* In order to enumerate all possible combinations of trips, you will want to work with set partitions. We have provided you with a helper function called get_partitions that generates all the set partitions for a set of cows. More details on this function are provided below.\n",
    "\n",
    "**Assumptions:**\n",
    "\n",
    "* Assume that order doesn't matter. (1) [[1,2],[3,4]] and [[3,4],[1,2]] are considered equivalent lists of trips. (2) [[1,2],[3,4]] and [[2,1],[3,4]] are considered the same partitions of [1,2,3,4].\n",
    "* You can assume that all the cows are between 0 and 100 tons in weight.\n",
    "* All the cows have unique names.\n",
    "* If multiple cows weigh the same amount, break ties arbitrarily.\n",
    "* The spaceship has a cargo weight limit (in tons), which is passed into the function as a parameter."
   ]
  },
  {
   "cell_type": "code",
   "execution_count": null,
   "metadata": {
    "collapsed": true
   },
   "outputs": [],
   "source": [
    "def brute_force_cow_transport(cows,limit=10):\n",
    "    \"\"\"\n",
    "    Finds the allocation of cows that minimizes the number of spaceship trips\n",
    "    via brute force.  The brute force algorithm should follow the following method:\n",
    "\n",
    "    1. Enumerate all possible ways that the cows can be divided into separate trips\n",
    "    2. Select the allocation that minimizes the number of trips without making any trip\n",
    "        that does not obey the weight limitation\n",
    "            \n",
    "    Does not mutate the given dictionary of cows.\n",
    "\n",
    "    Parameters:\n",
    "    cows - a dictionary of name (string), weight (int) pairs\n",
    "    limit - weight limit of the spaceship (an int)\n",
    "    \n",
    "    Returns:\n",
    "    A list of lists, with each inner list containing the names of cows\n",
    "    transported on a particular trip and the overall list containing all the\n",
    "    trips\n",
    "    \"\"\"\n",
    "    result = []\n",
    "    weight = 0\n",
    "    for item in (get_partitions(list(cows.keys()))):\n",
    "        for i1 in item:\n",
    "            weight = 0\n",
    "            for i2 in i1: \n",
    "                weight += cows[i2]\n",
    "            if weight > limit:\n",
    "                break\n",
    "        if weight <= limit:    \n",
    "            if len(result) == 0 or len(result) > len(item):\n",
    "                result = item\n",
    "    return result"
   ]
  }
 ],
 "metadata": {
  "kernelspec": {
   "display_name": "Python [default]",
   "language": "python",
   "name": "python3"
  },
  "language_info": {
   "codemirror_mode": {
    "name": "ipython",
    "version": 3
   },
   "file_extension": ".py",
   "mimetype": "text/x-python",
   "name": "python",
   "nbconvert_exporter": "python",
   "pygments_lexer": "ipython3",
   "version": "3.5.2"
  }
 },
 "nbformat": 4,
 "nbformat_minor": 1
}
