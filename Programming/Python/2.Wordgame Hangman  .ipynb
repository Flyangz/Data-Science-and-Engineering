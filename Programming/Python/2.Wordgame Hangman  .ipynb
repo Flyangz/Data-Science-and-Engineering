{
 "cells": [
  {
   "cell_type": "markdown",
   "metadata": {},
   "source": [
    "# A variation of the classic wordgame Hangman  "
   ]
  },
  {
   "cell_type": "markdown",
   "metadata": {},
   "source": [
    "Is the Word Guessed  \n",
    "\n",
    "Example Usage:  \n",
    "`>>> secretWord = 'apple' `  \n",
    "`>>> lettersGuessed = ['e', 'i', 'k', 'p', 'r', 's']`  \n",
    "`>>> print(isWordGuessed(secretWord, lettersGuessed))`  \n",
    "`False`"
   ]
  },
  {
   "cell_type": "code",
   "execution_count": 36,
   "metadata": {
    "collapsed": true
   },
   "outputs": [],
   "source": [
    "def test(test_code):\n",
    "    ans_list = []\n",
    "    err_ind = []\n",
    "    count = 0\n",
    "    # Record your answer\n",
    "    for i in test_list:   \n",
    "        ans_list.append(test_code(i))\n",
    "\n",
    "    # Correct your answer\n",
    "    for i,j in zip(true_list,ans_list):\n",
    "        if i != j:\n",
    "            err_ind.append(true_list.index(i))\n",
    "            count +=1\n",
    "    # Generate the result\n",
    "    if count == 0:\n",
    "        print('Perfect!')\n",
    "    else:\n",
    "        print(\"The error rate\", count,\"/\",len(test_list))\n",
    "        a=0\n",
    "        for i in err_ind:\n",
    "            a +=1\n",
    "            print('%d.' %a)\n",
    "            print(\"The testing object: \", test_list[i])\n",
    "            print('The correct answer: ', true_list[i])\n",
    "            print('Your answer: ', ans_list[i])"
   ]
  },
  {
   "cell_type": "code",
   "execution_count": 37,
   "metadata": {
    "collapsed": false
   },
   "outputs": [
    {
     "name": "stdout",
     "output_type": "stream",
     "text": [
      "Perfect!\n"
     ]
    }
   ],
   "source": [
    "def isWordGuessed(para):\n",
    "    '''\n",
    "    para: list, including secretWord and lettersGuessed\n",
    "    secretWord: string, the word the user is guessing\n",
    "    lettersGuessed: list, what letters have been guessed so far\n",
    "    returns: boolean, True if all the letters of secretWord are in lettersGuessed;\n",
    "      False otherwise\n",
    "    '''\n",
    "    # FILL IN YOUR CODE HERE...\n",
    "    secretWord = para[0]\n",
    "    lettersGuessed = para[1]\n",
    "    times = 0\n",
    "    for a in lettersGuessed:\n",
    "        if a in secretWord:\n",
    "            times += 1 \n",
    "        if times == len(secretWord):\n",
    "            return True\n",
    "    return False\n",
    "\n",
    "if __name__=='__main__':\n",
    "    test_list = [['apple', ['a', 'e', 'i', 'k', 'p', 'r', 's']],['durian', ['h', 'a', 'c', 'd', 'i', 'm', 'n', 'r', 't', 'u']]]\n",
    "    true_list = [False,True]\n",
    "    test(isWordGuessed)"
   ]
  },
  {
   "cell_type": "markdown",
   "metadata": {},
   "source": [
    "Printing Out the User's Guess\n",
    "\n",
    "Example Usage:  \n",
    "`>>> secretWord = 'apple'`   \n",
    "`>>> lettersGuessed = ['e', 'i', 'k', 'p', 'r', 's']`  \n",
    "`>>> print(getGuessedWord(secretWord, lettersGuessed))`  \n",
    "`'_ pp_ e'`"
   ]
  },
  {
   "cell_type": "code",
   "execution_count": 21,
   "metadata": {
    "collapsed": false
   },
   "outputs": [
    {
     "name": "stdout",
     "output_type": "stream",
     "text": [
      "Perfect!\n"
     ]
    }
   ],
   "source": [
    "def getGuessedWord(para):\n",
    "    '''\n",
    "    para: list, including secretWord and lettersGuessed\n",
    "    secretWord: string, the word the user is guessing\n",
    "    lettersGuessed: list, what letters have been guessed so far\n",
    "    returns: string, comprised of letters and underscores that represents\n",
    "      what letters in secretWord have been guessed so far.\n",
    "    '''\n",
    "    # FILL IN YOUR CODE HERE...\n",
    "    secretWord = para[0]\n",
    "    lettersGuessed = para[1]\n",
    "    result = ''\n",
    "    for a in secretWord:\n",
    "        if a in lettersGuessed:\n",
    "            result += a\n",
    "        else:\n",
    "            result += '_ '\n",
    "    return result\n",
    "\n",
    "if __name__=='__main__':\n",
    "    test_list = [['apple', ['e', 'i', 'k', 'p', 'r', 's']],['durian', ['a', 'c', 'd', 'h', 'i', 'm', 'n', 'r', 't', 'u']]]\n",
    "    true_list = ['_ pp_ e','durian']\n",
    "    test(getGuessedWord)"
   ]
  },
  {
   "cell_type": "markdown",
   "metadata": {},
   "source": [
    "Printing Out all Available Letters \n",
    "\n",
    "Example Usage:  \n",
    "`>>> lettersGuessed = ['e', 'i', 'k', 'p', 'r', 's']`  \n",
    "`>>> print(getAvailableLetters(lettersGuessed))`  \n",
    "`abcdfghjlmnoqtuvwxyz`"
   ]
  },
  {
   "cell_type": "code",
   "execution_count": 22,
   "metadata": {
    "collapsed": false
   },
   "outputs": [
    {
     "name": "stdout",
     "output_type": "stream",
     "text": [
      "Perfect!\n"
     ]
    }
   ],
   "source": [
    "def getAvailableLetters(lettersGuessed):\n",
    "    '''\n",
    "    lettersGuessed: list, what letters have been guessed so far\n",
    "    returns: string, comprised of letters that represents what letters have not\n",
    "      yet been guessed.\n",
    "    '''\n",
    "    # FILL IN YOUR CODE HERE...\n",
    "    result = ''\n",
    "    import string\n",
    "    for a in string.ascii_lowercase:\n",
    "         if a not in lettersGuessed:\n",
    "            result += a\n",
    "    return result \n",
    "\n",
    "if __name__=='__main__':\n",
    "    test_list = [['e', 'i', 'k', 'p', 'r', 's'],[]]\n",
    "    true_list = ['abcdfghjlmnoqtuvwxyz','abcdefghijklmnopqrstuvwxyz']\n",
    "    test(getAvailableLetters)"
   ]
  },
  {
   "cell_type": "markdown",
   "metadata": {},
   "source": [
    " The Game  \n",
    " Put anything together"
   ]
  },
  {
   "cell_type": "code",
   "execution_count": 31,
   "metadata": {
    "collapsed": false
   },
   "outputs": [],
   "source": [
    "def hangman(secretWord):\n",
    "    '''\n",
    "    secretWord: string, the secret word to guess.\n",
    "\n",
    "    Starts up an interactive game of Hangman.\n",
    "\n",
    "    * At the start of the game, let the user know how many \n",
    "      letters the secretWord contains.\n",
    "\n",
    "    * Ask the user to supply one guess (i.e. letter) per round.\n",
    "\n",
    "    * The user should receive feedback immediately after each guess \n",
    "      about whether their guess appears in the computers word.\n",
    "\n",
    "    * After each round, you should also display to the user the \n",
    "      partially guessed word so far, as well as letters that the \n",
    "      user has not yet guessed.\n",
    "\n",
    "    Follows the other limitations detailed in the problem write-up.\n",
    "    '''\n",
    "    # FILL IN YOUR CODE HERE...\n",
    "    t = 8\n",
    "    lettersGuessed = ''\n",
    "    result1 = '_'\n",
    "    print(\"Welcome to the game, Hangman!\")\n",
    "    print(\"I am thinking of a word that is \" + str(len(secretWord)) + \" letters long.\")\n",
    "    while t > 0:\n",
    "        availableLetters = getAvailableLetters(lettersGuessed)\n",
    "        print(\"-----------\")\n",
    "        print(\"You have \" + str(t) + \" guesses left.\")\n",
    "        print(\"Available letters: \" + availableLetters)\n",
    "        \n",
    "        guess = input(\"Please guess a letter: \")\n",
    "        lowguess = guess.lower()\n",
    "        if lowguess in availableLetters:\n",
    "            lettersGuessed += lowguess\n",
    "            if lowguess in secretWord:\n",
    "                result1 = getGuessedWord([secretWord, lettersGuessed])\n",
    "                print(\"Good guess: \" + result1)\n",
    "            if isWordGuessed([secretWord, result1]):\n",
    "                print(\"-----------\")\n",
    "                return \"Congratulations, you won!\"\n",
    "            else:\n",
    "                print(\"Oops! That letter is not in my word: \" + result1)\n",
    "                t -= 1\n",
    "        else:\n",
    "             print(\"Oops! You've already guessed that letter: \" + result1)\n",
    "    print(\"-----------\")       \n",
    "    return \"Sorry, you ran out of guesses. The word was else. The word was \" + \"secretWord\" +\".\"\n"
   ]
  },
  {
   "cell_type": "code",
   "execution_count": 34,
   "metadata": {
    "collapsed": false
   },
   "outputs": [
    {
     "name": "stdout",
     "output_type": "stream",
     "text": [
      "Welcome to the game, Hangman!\n",
      "I am thinking of a word that is 5 letters long.\n",
      "-----------\n",
      "You have 8 guesses left.\n",
      "Available letters: abcdefghijklmnopqrstuvwxyz\n",
      "Please guess a letter: a\n",
      "Good guess: a_ _ _ _ \n",
      "Oops! That letter is not in my word: a_ _ _ _ \n",
      "-----------\n",
      "You have 7 guesses left.\n",
      "Available letters: bcdefghijklmnopqrstuvwxyz\n",
      "Please guess a letter: l\n",
      "Good guess: a_ _ l_ \n",
      "Oops! That letter is not in my word: a_ _ l_ \n",
      "-----------\n",
      "You have 6 guesses left.\n",
      "Available letters: bcdefghijkmnopqrstuvwxyz\n",
      "Please guess a letter: e\n",
      "Good guess: a_ _ le\n",
      "Oops! That letter is not in my word: a_ _ le\n",
      "-----------\n",
      "You have 5 guesses left.\n",
      "Available letters: bcdfghijkmnopqrstuvwxyz\n",
      "Please guess a letter: p\n",
      "Good guess: apple\n",
      "-----------\n"
     ]
    },
    {
     "data": {
      "text/plain": [
       "'Congratulations, you won!'"
      ]
     },
     "execution_count": 34,
     "metadata": {},
     "output_type": "execute_result"
    }
   ],
   "source": [
    " hangman('apple')"
   ]
  }
 ],
 "metadata": {
  "kernelspec": {
   "display_name": "Python [default]",
   "language": "python",
   "name": "python3"
  },
  "language_info": {
   "codemirror_mode": {
    "name": "ipython",
    "version": 3
   },
   "file_extension": ".py",
   "mimetype": "text/x-python",
   "name": "python",
   "nbconvert_exporter": "python",
   "pygments_lexer": "ipython3",
   "version": "3.5.2"
  }
 },
 "nbformat": 4,
 "nbformat_minor": 1
}
