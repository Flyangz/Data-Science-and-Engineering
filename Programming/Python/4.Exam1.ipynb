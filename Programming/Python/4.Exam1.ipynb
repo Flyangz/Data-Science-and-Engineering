{
 "cells": [
  {
   "cell_type": "markdown",
   "metadata": {},
   "source": [
    "# 1\n",
    "For example,\n",
    "\n",
    "* closest_power(3,12) returns 2\n",
    "* closest_power(4,12) returns 2\n",
    "* closest_power(4,1) returns 0"
   ]
  },
  {
   "cell_type": "code",
   "execution_count": null,
   "metadata": {
    "collapsed": true
   },
   "outputs": [],
   "source": [
    "def closest_power(base, num):\n",
    "    '''\n",
    "    base: base of the exponential, integer > 1\n",
    "    num: number you want to be closest to, integer > 0\n",
    "    Find the integer exponent such that base**exponent is closest to num.\n",
    "    Note that the base**exponent may be either greater or smaller than num.\n",
    "    In case of a tie, return the smaller value.\n",
    "    Returns the exponent.\n",
    "    '''\n",
    "    a = 0\n",
    "    power = base ** a\n",
    "    small = 1\n",
    "    large = power\n",
    "    if num == 1:\n",
    "        return 0\n",
    "    while large < num:\n",
    "        small = base ** a\n",
    "        a += 1\n",
    "        large = base ** a\n",
    "    if abs(small - num) <= abs(large - num):\n",
    "        return a - 1\n",
    "    else:\n",
    "        return a"
   ]
  },
  {
   "cell_type": "markdown",
   "metadata": {},
   "source": [
    "# 2\n",
    "Write a Python function that returns the sum of the pairwise products of listA and listB. You should assume that listA and listB have the same length and are two lists of integer numbers. For example, if listA = [1, 2, 3] and listB = [4, 5, 6], the dot product is `1*4 + 2*5 + 3*6`, meaning your function should return: 32"
   ]
  },
  {
   "cell_type": "code",
   "execution_count": null,
   "metadata": {
    "collapsed": true
   },
   "outputs": [],
   "source": [
    "def dotProduct(listA, listB):\n",
    "    '''\n",
    "    listA: a list of numbers\n",
    "    listB: a list of numbers of the same length as listA\n",
    "    '''\n",
    "    listC = []\n",
    "    for a in range(len(listA)):\n",
    "        listC.append(listA[a]*listB[a])\n",
    "    return sum(listC)"
   ]
  },
  {
   "cell_type": "markdown",
   "metadata": {},
   "source": [
    "# 3\n",
    "For example, if L = [[1, 2], [3, 4], [5, 6, 7]] then deep_reverse(L) mutates L to be [[7, 6, 5], [4, 3], [2, 1]]"
   ]
  },
  {
   "cell_type": "code",
   "execution_count": null,
   "metadata": {
    "collapsed": true
   },
   "outputs": [],
   "source": [
    "def deep_reverse(L):\n",
    "    \"\"\" assumes L is a list of lists whose elements are ints\n",
    "    Mutates L such that it reverses its elements and also \n",
    "    reverses the order of the int elements in every element of L. \n",
    "    It does not return anything.\n",
    "    \"\"\"\n",
    "    for a in range(len(L)):\n",
    "        L[a].reverse()\n",
    "    L.reverse()"
   ]
  },
  {
   "cell_type": "markdown",
   "metadata": {},
   "source": [
    "# 4\n",
    "Here are two examples:\n",
    "\n",
    "* If f(a, b) returns a + b  \n",
    "d1 = {1:30, 2:20, 3:30, 5:80}  \n",
    "d2 = {1:40, 2:50, 3:60, 4:70, 6:90}  \n",
    "then dict_interdiff(d1, d2) returns ({1: 70, 2: 70, 3: 90}, {4: 70, 5: 80, 6: 90})  \n",
    "* If f(a, b) returns a > b  \n",
    "d1 = {1:30, 2:20, 3:30}  \n",
    "d2 = {1:40, 2:50, 3:60}  \n",
    "then dict_interdiff(d1, d2) returns ({1: False, 2: False, 3: False}, {})  "
   ]
  },
  {
   "cell_type": "code",
   "execution_count": null,
   "metadata": {
    "collapsed": true
   },
   "outputs": [],
   "source": [
    "def dict_interdiff(d1, d2):\n",
    "    '''\n",
    "    d1, d2: dicts whose keys and values are integers\n",
    "    Returns a tuple of dictionaries according to the instructions above\n",
    "    '''\n",
    "    ds = {}\n",
    "    dd = {}\n",
    "    for s in d1:\n",
    "        if s in d2:\n",
    "            a = d1[s]; b = d2[s]\n",
    "            ds[s] = f(a, b)\n",
    "    for s in ds:\n",
    "        del(d1[s], d2[s])\n",
    "    dd = d1.copy()\n",
    "    dd.update(d2)\n",
    "    return (ds, dd)"
   ]
  },
  {
   "cell_type": "markdown",
   "metadata": {},
   "source": [
    "# 5\n",
    "`def f(i):  \n",
    "    return i + 2  \n",
    "def g(i):  \n",
    "    return i > 5  \n",
    "\n",
    "L = [0, -10, 5, 6, -4]  \n",
    "print(applyF_filterG(L, f, g))  \n",
    "print(L)`\n",
    "\n",
    "`6\n",
    "[5, 6]`"
   ]
  },
  {
   "cell_type": "code",
   "execution_count": null,
   "metadata": {
    "collapsed": true
   },
   "outputs": [],
   "source": [
    "def applyF_filterG(L, f, g):\n",
    "    \"\"\"\n",
    "    Assumes L is a list of integers\n",
    "    Assume functions f and g are defined for you. \n",
    "    f takes in an integer, applies a function, returns another integer \n",
    "    g takes in an integer, applies a Boolean function, \n",
    "        returns either True or False\n",
    "    Mutates L such that, for each element i originally in L, L contains  \n",
    "        i if g(f(i)) returns True, and no other elements\n",
    "    Returns the largest element in the mutated L or -1 if the list is empty\n",
    "    \"\"\"\n",
    "    afterFlist = []; afterGlist = []\n",
    "    for a in map(f, L):\n",
    "        afterFlist += [a]   \n",
    "    for b in afterFlist:\n",
    "        if g(b):\n",
    "            afterGlist += [L[afterFlist.index(b)]]\n",
    "    del(L[:])\n",
    "    for c in range(len(afterGlist)):\n",
    "        L.append(afterGlist[c])\n",
    "    if L == []:\n",
    "        return -1\n",
    "    return max(L)"
   ]
  },
  {
   "cell_type": "markdown",
   "metadata": {},
   "source": [
    "# 6\n",
    "Write a function to flatten a list. The list contains other lists, strings, or ints. For example, [[1,'a',['cat'],2],[[[3]],'dog'],4,5] is flattened into [1,'a','cat',2,3,'dog',4,5] (order matters)."
   ]
  },
  {
   "cell_type": "code",
   "execution_count": null,
   "metadata": {
    "collapsed": true
   },
   "outputs": [],
   "source": [
    "def flatten(aList):\n",
    "    ''' \n",
    "    aList: a list \n",
    "    Returns a copy of aList, which is a flattened version of aList \n",
    "    '''\n",
    "    L = []\n",
    "    for a in aList:\n",
    "        if type(a) == list:\n",
    "            L.extend(flatten(a))\n",
    "        else:\n",
    "            L.append(a)\n",
    "    return L"
   ]
  }
 ],
 "metadata": {
  "kernelspec": {
   "display_name": "Python [default]",
   "language": "python",
   "name": "python3"
  },
  "language_info": {
   "codemirror_mode": {
    "name": "ipython",
    "version": 3
   },
   "file_extension": ".py",
   "mimetype": "text/x-python",
   "name": "python",
   "nbconvert_exporter": "python",
   "pygments_lexer": "ipython3",
   "version": "3.5.2"
  }
 },
 "nbformat": 4,
 "nbformat_minor": 1
}
