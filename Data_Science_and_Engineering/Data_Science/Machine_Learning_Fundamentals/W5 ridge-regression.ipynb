{
 "cells": [
  {
   "cell_type": "markdown",
   "metadata": {},
   "source": [
    "# Gradient-based solver for ridge regression"
   ]
  },
  {
   "cell_type": "code",
   "execution_count": 3,
   "metadata": {
    "collapsed": true
   },
   "outputs": [],
   "source": [
    "%matplotlib inline\n",
    "import numpy as np\n",
    "import matplotlib\n",
    "import matplotlib.pyplot as plt\n",
    "from sklearn import linear_model\n",
    "from sklearn.metrics import mean_squared_error\n",
    "matplotlib.rc('xtick', labelsize=14) \n",
    "matplotlib.rc('ytick', labelsize=14)"
   ]
  },
  {
   "cell_type": "code",
   "execution_count": 4,
   "metadata": {
    "collapsed": true
   },
   "outputs": [],
   "source": [
    "def generate_data(n):\n",
    "    d = 100\n",
    "    w = np.zeros(d)\n",
    "    for i in range(0,10):\n",
    "        w[i] = 1.0\n",
    "    #\n",
    "    trainx = np.random.normal(size=(n,d))\n",
    "    e = np.random.normal(size=(n))\n",
    "    trainy = np.dot(trainx, w) + e\n",
    "    #\n",
    "    return trainx, trainy"
   ]
  },
  {
   "cell_type": "code",
   "execution_count": null,
   "metadata": {
    "collapsed": true
   },
   "outputs": [],
   "source": []
  },
  {
   "cell_type": "markdown",
   "metadata": {},
   "source": [
    "## 2. Gradient descent solver for ridge regression"
   ]
  },
  {
   "cell_type": "code",
   "execution_count": 37,
   "metadata": {
    "collapsed": false
   },
   "outputs": [
    {
     "name": "stdout",
     "output_type": "stream",
     "text": [
      "(200, 101) (200,)\n"
     ]
    },
    {
     "data": {
      "text/plain": [
       "(200,)"
      ]
     },
     "execution_count": 37,
     "metadata": {},
     "output_type": "execute_result"
    }
   ],
   "source": [
    "p, q = generate_data(200)\n",
    "print(p.shape,q.shape)\n",
    "o = np.zeros(101)\n",
    "np.dot(p, o).shape"
   ]
  },
  {
   "cell_type": "code",
   "execution_count": 39,
   "metadata": {
    "collapsed": true
   },
   "outputs": [],
   "source": [
    "r = np.zeros(101)"
   ]
  },
  {
   "cell_type": "code",
   "execution_count": 57,
   "metadata": {
    "collapsed": false
   },
   "outputs": [
    {
     "data": {
      "text/plain": [
       "()"
      ]
     },
     "execution_count": 57,
     "metadata": {},
     "output_type": "execute_result"
    }
   ],
   "source": [
    "np.dot(w,w).shape"
   ]
  },
  {
   "cell_type": "code",
   "execution_count": 45,
   "metadata": {
    "collapsed": false,
    "scrolled": true
   },
   "outputs": [
    {
     "data": {
      "text/plain": [
       "(200,)"
      ]
     },
     "execution_count": 45,
     "metadata": {},
     "output_type": "execute_result"
    }
   ],
   "source": [
    "( (q - np.dot(p,r))).shape #+ 2*C*w))"
   ]
  },
  {
   "cell_type": "code",
   "execution_count": 44,
   "metadata": {
    "collapsed": false
   },
   "outputs": [
    {
     "data": {
      "text/plain": [
       "(101, 200)"
      ]
     },
     "execution_count": 44,
     "metadata": {},
     "output_type": "execute_result"
    }
   ],
   "source": [
    "p.T.shape"
   ]
  },
  {
   "cell_type": "code",
   "execution_count": 83,
   "metadata": {
    "collapsed": false
   },
   "outputs": [],
   "source": [
    "def ridge_regression_GD(x,y,C):\n",
    "    \n",
    "    step = 0.0001\n",
    "    losses = []\n",
    "    w = np.zeros(101)\n",
    "    x = np.c_[x, np.ones(x.shape[0])]\n",
    "#     criterion = np.ones(len(w))*0.01 \n",
    "    OLF = np.dot((y - np.dot(x,w)).T,(y - np.dot(x,w)))\n",
    "    L1 = OLF + C*np.dot(w,w)\n",
    "    \n",
    "    while True:      \n",
    "        Nabla = (-2 * np.dot(x.T, (y - np.dot(x,w))) + 2*C*w)\n",
    "        w -= step*Nabla\n",
    "        L2 = OLF + C*np.dot(w,w)\n",
    "        losses += [L1 - L2]\n",
    "#         print(losses) \n",
    "        if abs(L1 - L2) < 0.0000000001:\n",
    "            break\n",
    "        L1 = L2\n",
    "        if len(losses) == 50:\n",
    "            step = 0.00001\n",
    "        if len(losses) == 200:\n",
    "            step = 0.000001\n",
    "    b = w[-1]\n",
    "    w = w[:-1]\n",
    "    print(len(losses))\n",
    "    return w,b,losses"
   ]
  },
  {
   "cell_type": "code",
   "execution_count": 52,
   "metadata": {
    "collapsed": false
   },
   "outputs": [
    {
     "data": {
      "image/png": "[encoded data removed]",
      "text/plain": [
       "<matplotlib.figure.Figure at 0x1e311207908>"
      ]
     },
     "metadata": {},
     "output_type": "display_data"
    }
   ],
   "source": [
    "# Generate 200 data points\n",
    "n = 200\n",
    "x,y = generate_data(n)\n",
    "# Set regularization constant\n",
    "C = 1.0\n",
    "# Run gradient descent solver\n",
    "w, b, losses = ridge_regression_GD(x,y,C)\n",
    "# Plot the losses\n",
    "plt.plot(losses,'r')\n",
    "plt.xlabel('Iterations', fontsize=14)\n",
    "plt.ylabel('Loss', fontsize=14)\n",
    "plt.show()"
   ]
  },
  {
   "cell_type": "code",
   "execution_count": 43,
   "metadata": {
    "collapsed": true
   },
   "outputs": [],
   "source": [
    "def compute_mse(w,b,x,y):\n",
    "    residuals = y - (np.dot(x, w) + b)\n",
    "    return np.dot(residuals, residuals)/n"
   ]
  },
  {
   "cell_type": "code",
   "execution_count": 84,
   "metadata": {
    "collapsed": false
   },
   "outputs": [
    {
     "name": "stdout",
     "output_type": "stream",
     "text": [
      "238274\n",
      "MSE of gradient descent solver:  0.727510658355\n",
      "MSE of built-in solver:  0.727490039963\n",
      "Distance between w-coefficients:  0.000803950850576\n"
     ]
    }
   ],
   "source": [
    "# Generate 200 data points\n",
    "#n = 200\n",
    "#x,y = generate_data(n)\n",
    "# Set regularization constant\n",
    "C = 10.0\n",
    "# Run gradient descent solver and compute its MSE\n",
    "w, b, losses = ridge_regression_GD(x,y,C)\n",
    "# Use built-in routine for ridge regression and compute MSE\n",
    "regr = linear_model.Ridge(alpha=C)\n",
    "regr.fit(x, y)\n",
    "# Print MSE values and L2 distance between the regression functions\n",
    "print (\"MSE of gradient descent solver: \", compute_mse(w,b,x,y))\n",
    "print (\"MSE of built-in solver: \", mean_squared_error(regr.predict(x), y))\n",
    "print (\"Distance between w-coefficients: \", np.linalg.norm(w-regr.coef_))"
   ]
  },
  {
   "cell_type": "code",
   "execution_count": 85,
   "metadata": {
    "collapsed": false
   },
   "outputs": [
    {
     "data": {
      "text/plain": [
       "array([  8.40662277e-01,   8.98187941e-01,   7.92205814e-01,\n",
       "         1.04008343e+00,   9.30628913e-01,   7.69060341e-01,\n",
       "         9.19196860e-01,   9.41882049e-01,   9.12622889e-01,\n",
       "         1.02637872e+00,  -3.61935903e-02,  -5.03221635e-02,\n",
       "         6.81216082e-02,   1.49381151e-02,  -9.80519552e-02,\n",
       "        -2.16025085e-02,   7.59347882e-02,   1.02972419e-01,\n",
       "         1.14885185e-02,   2.29581093e-02,   3.90613971e-02,\n",
       "        -1.04754144e-01,  -4.45194893e-03,   1.00414168e-01,\n",
       "        -2.17035677e-02,   5.89343195e-02,  -7.43559145e-02,\n",
       "        -1.79861528e-02,   3.90611196e-02,   6.17466364e-03,\n",
       "        -7.26809658e-02,   1.41292381e-01,   1.59978620e-01,\n",
       "        -2.22937748e-01,   7.81492350e-02,  -4.04727833e-02,\n",
       "         2.69250820e-02,   8.19089785e-02,   6.64175780e-02,\n",
       "        -3.84083820e-02,  -1.52297439e-01,   1.46486904e-01,\n",
       "        -1.66948452e-01,   2.64868878e-02,  -1.77729375e-02,\n",
       "         2.75297459e-02,  -1.33302728e-01,   5.04744606e-02,\n",
       "         8.53869494e-02,   3.56273650e-02,  -3.68442282e-02,\n",
       "        -2.90048130e-04,  -4.74223243e-02,  -1.00611973e-01,\n",
       "        -2.46886888e-03,   7.55355763e-03,  -1.76049570e-02,\n",
       "        -5.76346853e-02,  -2.07422968e-01,  -1.02250424e-01,\n",
       "         4.17830734e-02,  -2.66651301e-02,   7.23959820e-02,\n",
       "        -8.99124662e-02,  -7.35563563e-02,  -1.81664793e-02,\n",
       "         1.74768273e-02,  -4.06285207e-04,   1.33341783e-01,\n",
       "         3.75016439e-02,   4.96279903e-02,   2.62718764e-02,\n",
       "         7.72318155e-02,   3.12820163e-02,   9.09815370e-02,\n",
       "        -8.16543479e-03,  -1.17499663e-01,  -2.07350134e-02,\n",
       "        -1.64831799e-01,   9.71319103e-02,  -1.47521340e-03,\n",
       "        -7.96822266e-03,  -3.29509923e-02,  -7.16711615e-02,\n",
       "         9.88604479e-02,  -2.40618277e-02,   8.29277032e-02,\n",
       "         1.55995892e-01,  -8.28478161e-02,   8.42264153e-04,\n",
       "         6.43471814e-02,   8.09557237e-03,   1.02052839e-01,\n",
       "         5.39891433e-02,   2.77000459e-02,   7.77076243e-02,\n",
       "         8.77592742e-02,  -3.36848033e-02,   8.32013177e-03,\n",
       "         4.61032285e-02])"
      ]
     },
     "execution_count": 85,
     "metadata": {},
     "output_type": "execute_result"
    }
   ],
   "source": [
    "w"
   ]
  },
  {
   "cell_type": "code",
   "execution_count": 88,
   "metadata": {
    "collapsed": true
   },
   "outputs": [],
   "source": [
    "ind = np.argpartition(regr.coef_, -10)[-10:]"
   ]
  },
  {
   "cell_type": "code",
   "execution_count": 89,
   "metadata": {
    "collapsed": false
   },
   "outputs": [
    {
     "data": {
      "text/plain": [
       "array([5, 2, 0, 6, 4, 7, 9, 3, 1, 8], dtype=int64)"
      ]
     },
     "execution_count": 89,
     "metadata": {},
     "output_type": "execute_result"
    }
   ],
   "source": [
    "ind"
   ]
  },
  {
   "cell_type": "code",
   "execution_count": 36,
   "metadata": {
    "collapsed": false
   },
   "outputs": [],
   "source": [
    "tw = np.zeros(100)\n",
    "for i in range(10):\n",
    "    tw[i] = 1.0"
   ]
  },
  {
   "cell_type": "code",
   "execution_count": 80,
   "metadata": {
    "collapsed": false
   },
   "outputs": [
    {
     "name": "stdout",
     "output_type": "stream",
     "text": [
      "my and built-in Distance between w-coefficients:  0.000803949993865\n",
      "my and true Distance between w-coefficients:  0.85016038952\n",
      "built-in and true between w-coefficients:  0.850155798656\n"
     ]
    }
   ],
   "source": [
    "print (\"my and built-in Distance between w-coefficients: \", np.linalg.norm(w-regr.coef_))\n",
    "print (\"my and true Distance between w-coefficients: \", np.linalg.norm(w-tw))\n",
    "print (\"built-in and true between w-coefficients: \", np.linalg.norm(tw-regr.coef_))"
   ]
  },
  {
   "cell_type": "code",
   "execution_count": null,
   "metadata": {
    "collapsed": true
   },
   "outputs": [],
   "source": []
  }
 ],
 "metadata": {
  "anaconda-cloud": {},
  "kernelspec": {
   "display_name": "Python [default]",
   "language": "python",
   "name": "python3"
  },
  "language_info": {
   "codemirror_mode": {
    "name": "ipython",
    "version": 3
   },
   "file_extension": ".py",
   "mimetype": "text/x-python",
   "name": "python",
   "nbconvert_exporter": "python",
   "pygments_lexer": "ipython3",
   "version": "3.5.2"
  }
 },
 "nbformat": 4,
 "nbformat_minor": 1
}
