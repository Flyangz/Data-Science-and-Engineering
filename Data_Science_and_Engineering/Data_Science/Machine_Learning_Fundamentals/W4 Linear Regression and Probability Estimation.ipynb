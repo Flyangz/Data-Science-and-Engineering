{
 "cells": [
  {
   "cell_type": "markdown",
   "metadata": {},
   "source": [
    "# Predicting the progression of diabetes using least-squares regression"
   ]
  },
  {
   "cell_type": "markdown",
   "metadata": {},
   "source": [
    "## 1. Set up notebook and load data set"
   ]
  },
  {
   "cell_type": "code",
   "execution_count": 3,
   "metadata": {
    "collapsed": true
   },
   "outputs": [],
   "source": [
    "# Standard includes\n",
    "%matplotlib inline\n",
    "import numpy as np\n",
    "import matplotlib\n",
    "import matplotlib.pyplot as plt\n",
    "# Routines for linear regression\n",
    "from sklearn import linear_model\n",
    "from sklearn.metrics import mean_squared_error\n",
    "# Set label size for plots\n",
    "matplotlib.rc('xtick', labelsize=14) \n",
    "matplotlib.rc('ytick', labelsize=14)"
   ]
  },
  {
   "cell_type": "code",
   "execution_count": 2,
   "metadata": {
    "collapsed": true
   },
   "outputs": [],
   "source": [
    "data = np.genfromtxt('C:/Users/tp179902741/Documents/Machine_learning/diabetes-regression/diabetes-data.csv', delimiter=',')\n",
    "features = ['age', 'sex', 'body mass index', 'blood pressure', \n",
    "            'serum1', 'serum2', 'serum3', 'serum4', 'serum5', 'serum6']\n",
    "x = data[:,0:10] # predictors\n",
    "y = data[:,10] # response variable"
   ]
  },
  {
   "cell_type": "markdown",
   "metadata": {},
   "source": [
    "## 2. Predict `y` without using `x`"
   ]
  },
  {
   "cell_type": "code",
   "execution_count": 4,
   "metadata": {
    "collapsed": false
   },
   "outputs": [
    {
     "name": "stdout",
     "output_type": "stream",
     "text": [
      "Prediction:  152.133484163\n",
      "Mean squared error:  5929.88489691\n"
     ]
    }
   ],
   "source": [
    "print (\"Prediction: \", np.mean(y))\n",
    "print (\"Mean squared error: \", np.var(y))"
   ]
  },
  {
   "cell_type": "markdown",
   "metadata": {},
   "source": [
    "## 3. Predict `y` using a single feature of `x`"
   ]
  },
  {
   "cell_type": "code",
   "execution_count": 37,
   "metadata": {
    "collapsed": false
   },
   "outputs": [],
   "source": [
    "def one_feature_regression(x,y,f):\n",
    "    if (f < 0) or (f > 9):\n",
    "        print (\"Feature index is out of bounds\")\n",
    "        return\n",
    "    regr = linear_model.LinearRegression()\n",
    "    x1 = x[:,[f]]\n",
    "    regr.fit(x1, y)\n",
    "    # Make predictions using the model\n",
    "    y_pred = regr.predict(x1)\n",
    "    # Plot data points as well as predictions\n",
    "#     plt.plot(x1, y, 'bo')\n",
    "#     plt.plot(x1, y_pred, 'r-', linewidth=3)\n",
    "#     plt.xlabel(features[f], fontsize=14)\n",
    "#     plt.ylabel('Progression of disease', fontsize=14)\n",
    "#     plt.show()\n",
    "#    print (\"Mean squared error: \", mean_squared_error(y, y_pred))\n",
    "#    return mean_squared_error(y, y_pred)\n",
    "    return regr"
   ]
  },
  {
   "cell_type": "code",
   "execution_count": 39,
   "metadata": {
    "collapsed": false
   },
   "outputs": [
    {
     "data": {
      "text/plain": [
       "LinearRegression(copy_X=True, fit_intercept=True, n_jobs=1, normalize=False)"
      ]
     },
     "execution_count": 39,
     "metadata": {},
     "output_type": "execute_result"
    }
   ],
   "source": [
    "regr = one_feature_regression(x,y,2)\n",
    "print (\"w = \", regr.coef_)\n",
    "print (\"b = \", regr.intercept_)"
   ]
  },
  {
   "cell_type": "code",
   "execution_count": 28,
   "metadata": {
    "collapsed": false
   },
   "outputs": [
    {
     "data": {
      "text/plain": [
       "[5720.5470172056466,\n",
       " 5918.8888995860216,\n",
       " 3890.4565854612729,\n",
       " 4774.1139023686874,\n",
       " 5663.3156237393541,\n",
       " 5750.2411026777818,\n",
       " 5005.6616207106517,\n",
       " 4831.1383864340896,\n",
       " 4030.9987225912869,\n",
       " 5062.3805945205413]"
      ]
     },
     "execution_count": 28,
     "metadata": {},
     "output_type": "execute_result"
    }
   ],
   "source": [
    "results = []\n",
    "for i in range(10):\n",
    "    results += [one_feature_regression(x,y,i)]\n",
    "results"
   ]
  },
  {
   "cell_type": "markdown",
   "metadata": {},
   "source": [
    "## 3. Predict `y` using a specified subset of features from `x`"
   ]
  },
  {
   "cell_type": "code",
   "execution_count": 29,
   "metadata": {
    "collapsed": true
   },
   "outputs": [],
   "source": [
    "def feature_subset_regression(x,y,flist):\n",
    "    if len(flist) < 1:\n",
    "        print (\"Need at least one feature\")\n",
    "        return\n",
    "    for f in flist:\n",
    "        if (f < 0) or (f > 9):\n",
    "            print (\"Feature index is out of bounds\")\n",
    "            return\n",
    "    regr = linear_model.LinearRegression()\n",
    "    regr.fit(x[:,flist], y)\n",
    "    return regr"
   ]
  },
  {
   "cell_type": "code",
   "execution_count": 34,
   "metadata": {
    "collapsed": false
   },
   "outputs": [
    {
     "name": "stdout",
     "output_type": "stream",
     "text": [
      "w =  [ -3.63612242e-02  -2.28596481e+01   5.60296209e+00   1.11680799e+00\n",
      "  -1.08999633e+00   7.46450456e-01   3.72004715e-01   6.53383194e+00\n",
      "   6.84831250e+01   2.80116989e-01]\n",
      "b =  -334.567138519\n",
      "Mean squared error:  2859.69634759\n"
     ]
    }
   ],
   "source": [
    "# flist = [2,8]\n",
    "regr = feature_subset_regression(x,y,range(0,10))\n",
    "print (\"w = \", regr.coef_)\n",
    "print (\"b = \", regr.intercept_)\n",
    "print (\"Mean squared error: \", mean_squared_error(y, regr.predict(x)))"
   ]
  },
  {
   "cell_type": "markdown",
   "metadata": {},
   "source": [
    "## 4. Splitting the data into a training and test set"
   ]
  },
  {
   "cell_type": "code",
   "execution_count": 35,
   "metadata": {
    "collapsed": true
   },
   "outputs": [],
   "source": [
    "def split_data(n_train):\n",
    "    if (n_train < 0) or (n_train > 442):\n",
    "        print (\"Invalid number of training points\")\n",
    "        return\n",
    "    np.random.seed(0)\n",
    "    perm = np.random.permutation(442)\n",
    "    training_indices = perm[range(0,n_train)]\n",
    "    test_indices = perm[range(n_train,442)]\n",
    "    trainx = x[training_indices,:]\n",
    "    trainy = y[training_indices]\n",
    "    testx = x[test_indices,:]\n",
    "    testy = y[test_indices]\n",
    "    return trainx, trainy, testx, testy"
   ]
  },
  {
   "cell_type": "code",
   "execution_count": 36,
   "metadata": {
    "collapsed": true
   },
   "outputs": [],
   "source": [
    "trainx, trainy, testx, testy = split_data(100)"
   ]
  },
  {
   "cell_type": "code",
   "execution_count": 40,
   "metadata": {
    "collapsed": false
   },
   "outputs": [
    {
     "name": "stdout",
     "output_type": "stream",
     "text": [
      "2883.77852012\n"
     ]
    }
   ],
   "source": [
    "regr = feature_subset_regression(trainx,trainy,range(0,10))\n",
    "print(mean_squared_error(trainy, regr.predict(trainx)))"
   ]
  },
  {
   "cell_type": "code",
   "execution_count": 41,
   "metadata": {
    "collapsed": false
   },
   "outputs": [
    {
     "name": "stdout",
     "output_type": "stream",
     "text": [
      "3583.00851153\n"
     ]
    }
   ],
   "source": [
    "#regr = feature_subset_regression(trainx,trainy,range(0,10))\n",
    "print(mean_squared_error(testy, regr.predict(testx)))"
   ]
  },
  {
   "cell_type": "code",
   "execution_count": 43,
   "metadata": {
    "collapsed": false
   },
   "outputs": [
    {
     "name": "stdout",
     "output_type": "stream",
     "text": [
      "training error on 20 training points 1636.14259227\n",
      "test error on 20 training points 6764.18724369\n"
     ]
    }
   ],
   "source": [
    "trainx, trainy, testx, testy = split_data(20)\n",
    "regr = feature_subset_regression(trainx,trainy,range(0,10))\n",
    "print(\"training error on 20 training points\", mean_squared_error(trainy, regr.predict(trainx)))\n",
    "print(\"test error on 20 training points\", mean_squared_error(testy, regr.predict(testx)))"
   ]
  },
  {
   "cell_type": "code",
   "execution_count": 44,
   "metadata": {
    "collapsed": false
   },
   "outputs": [
    {
     "name": "stdout",
     "output_type": "stream",
     "text": [
      "training error on 400 training points 2825.47304563\n",
      "test error on 400 training points 3262.76549382\n"
     ]
    }
   ],
   "source": [
    "trainx, trainy, testx, testy = split_data(400)\n",
    "regr = feature_subset_regression(trainx,trainy,range(0,10))\n",
    "print(\"training error on 400 training points\" , mean_squared_error(trainy, regr.predict(trainx)))\n",
    "print(\"test error on 400 training points\" , mean_squared_error(testy, regr.predict(testx)))"
   ]
  },
  {
   "cell_type": "code",
   "execution_count": null,
   "metadata": {
    "collapsed": true
   },
   "outputs": [],
   "source": []
  },
  {
   "cell_type": "markdown",
   "metadata": {},
   "source": [
    "# Ridge and Lasso Regression "
   ]
  },
  {
   "cell_type": "code",
   "execution_count": 52,
   "metadata": {
    "collapsed": true
   },
   "outputs": [],
   "source": [
    "import pandas as pd\n",
    "# from sklearn.linear_model import Lasso\n",
    "# from sklearn.linear_model import Ridge"
   ]
  },
  {
   "cell_type": "code",
   "execution_count": 2,
   "metadata": {
    "collapsed": false
   },
   "outputs": [],
   "source": [
    "data = np.loadtxt('C:/Users/tp179902741/Documents/Machine_learning/mystery.dat',delimiter=',')\n",
    "\n",
    "# Separate features from labels\n",
    "x = data[:,0:100]\n",
    "y = data[:,100]"
   ]
  },
  {
   "cell_type": "code",
   "execution_count": 46,
   "metadata": {
    "collapsed": false,
    "scrolled": true
   },
   "outputs": [
    {
     "data": {
      "text/plain": [
       "(101, 101)"
      ]
     },
     "execution_count": 46,
     "metadata": {},
     "output_type": "execute_result"
    }
   ],
   "source": [
    "data.shape"
   ]
  },
  {
   "cell_type": "code",
   "execution_count": 5,
   "metadata": {
    "collapsed": true
   },
   "outputs": [],
   "source": [
    "def lasso_regression(data, predictors):\n",
    "    regr = linear_model.LinearRegression()\n",
    "    regr.fit(data, predictors)\n",
    "    return regr"
   ]
  },
  {
   "cell_type": "code",
   "execution_count": 8,
   "metadata": {
    "collapsed": false
   },
   "outputs": [],
   "source": [
    "regr = lasso_regression(x, y)"
   ]
  },
  {
   "cell_type": "code",
   "execution_count": 9,
   "metadata": {
    "collapsed": false
   },
   "outputs": [
    {
     "data": {
      "text/plain": [
       "100"
      ]
     },
     "execution_count": 9,
     "metadata": {},
     "output_type": "execute_result"
    }
   ],
   "source": [
    "len(regr.coef_)"
   ]
  },
  {
   "cell_type": "code",
   "execution_count": 11,
   "metadata": {
    "collapsed": false
   },
   "outputs": [
    {
     "name": "stdout",
     "output_type": "stream",
     "text": [
      "[92 63  9 44 99 41  7 88 30 16] [11 61 83 96 23 20  1 40]\n"
     ]
    }
   ],
   "source": [
    "inds = np.argsort(regr.coef_)\n",
    "neg_inds = inds[0:10]\n",
    "pos_inds = inds[-9:-1]\n",
    "print(neg_inds,pos_inds)"
   ]
  },
  {
   "cell_type": "code",
   "execution_count": 14,
   "metadata": {
    "collapsed": false
   },
   "outputs": [
    {
     "data": {
      "text/plain": [
       "array([-36.86086585, -34.15217277, -33.02505161, -31.04453888,\n",
       "       -29.10575762, -27.42588293, -26.24789148, -26.13113306,\n",
       "       -24.73767002, -23.11338305, -21.23262124, -20.54216865,\n",
       "       -20.47715298, -19.8302514 , -19.05026195, -18.81642585,\n",
       "       -17.73085803, -17.34996285, -16.2930732 , -15.38912945,\n",
       "       -14.84899384, -14.24146188, -13.45838974, -13.18719081,\n",
       "       -13.12389283, -13.11603558, -12.84425923, -12.40941302,\n",
       "       -12.29939822, -10.62381041,  -9.90294585,  -9.68143955,\n",
       "        -8.90551105,  -8.83892388,  -8.7822912 ,  -8.49306744,\n",
       "        -6.39437977,  -5.07503488,  -5.04859173,  -4.72916532,\n",
       "        -4.64908799,  -4.57261591,  -4.34514772,  -4.31060888,\n",
       "        -3.2144711 ,  -2.80507449,  -2.77403478,  -2.52897667,\n",
       "        -2.31722156,  -2.12913828,  -1.91294727,  -1.27906908,\n",
       "        -1.12470876,  -0.55904996,   0.4619578 ,   1.45021208,\n",
       "         1.51355527,   1.98326772,   2.01394885,   2.75408536,\n",
       "         2.85842673,   2.90628928,   3.65275455,   4.3505104 ,\n",
       "         4.38141419,   5.00599422,   5.35751097,   5.44357443,\n",
       "         5.72291521,   6.25641416,   6.28251874,   7.14861688,\n",
       "         7.18151144,   9.02509676,   9.56531573,   9.62579424,\n",
       "        10.38855614,  10.45098514,  11.56068808,  12.75380057,\n",
       "        13.66242966,  14.16373337,  14.87128385,  15.04473187,\n",
       "        16.06529835,  17.0286277 ,  17.47971735,  17.50372629,\n",
       "        18.18886875,  18.41317443,  19.15103724,  19.68286928,\n",
       "        20.40848143,  20.94629757,  21.03096283,  21.31900346,\n",
       "        24.03007414,  26.98762719,  30.2439122 ,  32.19189603])"
      ]
     },
     "execution_count": 14,
     "metadata": {},
     "output_type": "execute_result"
    }
   ],
   "source": [
    "np.sort(regr.coef_)"
   ]
  },
  {
   "cell_type": "code",
   "execution_count": 13,
   "metadata": {
    "collapsed": false,
    "scrolled": true
   },
   "outputs": [
    {
     "data": {
      "text/plain": [
       "array([92, 63,  9, 44, 99, 41,  7, 88, 30, 16, 51, 70, 10, 90, 49, 12, 98,\n",
       "       32, 17, 68, 73, 37, 95, 64, 22, 55, 45,  5, 24, 78, 38, 76, 89, 29,\n",
       "       35,  0, 93, 79, 53, 57,  3, 25, 85, 58,  8, 31, 81, 94, 60, 33, 86,\n",
       "        2, 62, 50, 67, 21, 74, 13, 28, 82, 48, 52, 72, 47, 15, 46, 27, 66,\n",
       "        4, 42, 80, 71, 65, 59, 87, 26, 36, 75, 77, 69, 34, 18, 19, 43,  6,\n",
       "       97, 56, 84, 14, 54, 91, 11, 61, 83, 96, 23, 20,  1, 40, 39], dtype=int64)"
      ]
     },
     "execution_count": 13,
     "metadata": {},
     "output_type": "execute_result"
    }
   ],
   "source": [
    "inds"
   ]
  },
  {
   "cell_type": "code",
   "execution_count": 12,
   "metadata": {
    "collapsed": false,
    "scrolled": false
   },
   "outputs": [
    {
     "data": {
      "text/plain": [
       "array([ -8.49306744,  26.98762719,  -1.27906908,  -4.64908799,\n",
       "         5.72291521, -12.40941302,  16.06529835, -26.24789148,\n",
       "        -3.2144711 , -33.02505161, -20.47715298,  19.68286928,\n",
       "       -18.81642585,   1.98326772,  18.18886875,   4.38141419,\n",
       "       -23.11338305, -16.2930732 ,  14.16373337,  14.87128385,\n",
       "        24.03007414,   1.45021208, -13.12389283,  21.31900346,\n",
       "       -12.29939822,  -4.57261591,   9.62579424,   5.35751097,\n",
       "         2.01394885,  -8.83892388, -24.73767002,  -2.80507449,\n",
       "       -17.34996285,  -2.12913828,  13.66242966,  -8.7822912 ,\n",
       "        10.38855614, -14.24146188,  -9.90294585,  32.19189603,\n",
       "        30.2439122 , -27.42588293,   6.25641416,  15.04473187,\n",
       "       -31.04453888, -12.84425923,   5.00599422,   4.3505104 ,\n",
       "         2.85842673, -19.05026195,  -0.55904996, -21.23262124,\n",
       "         2.90628928,  -5.04859173,  18.41317443, -13.11603558,\n",
       "        17.47971735,  -4.72916532,  -4.31060888,   9.02509676,\n",
       "        -2.31722156,  20.40848143,  -1.12470876, -34.15217277,\n",
       "       -13.18719081,   7.18151144,   5.44357443,   0.4619578 ,\n",
       "       -15.38912945,  12.75380057, -20.54216865,   7.14861688,\n",
       "         3.65275455, -14.84899384,   1.51355527,  10.45098514,\n",
       "        -9.68143955,  11.56068808, -10.62381041,  -5.07503488,\n",
       "         6.28251874,  -2.77403478,   2.75408536,  20.94629757,\n",
       "        17.50372629,  -4.34514772,  -1.91294727,   9.56531573,\n",
       "       -26.13113306,  -8.90551105, -19.8302514 ,  19.15103724,\n",
       "       -36.86086585,  -6.39437977,  -2.52897667, -13.45838974,\n",
       "        21.03096283,  17.0286277 , -17.73085803, -29.10575762])"
      ]
     },
     "execution_count": 12,
     "metadata": {},
     "output_type": "execute_result"
    }
   ],
   "source": [
    "regr.coef_"
   ]
  },
  {
   "cell_type": "code",
   "execution_count": null,
   "metadata": {
    "collapsed": true
   },
   "outputs": [],
   "source": [
    "vocab = np.array([z[0] for z in sorted(vectorizer.vocabulary_.items(), key=lambda x:x[1])], order='K')\n",
    "\n",
    "## Get indices of sorting w\n",
    "inds = np.argsort(w)\n",
    "\n",
    "## Words with large negative values\n",
    "neg_inds = inds[0:50]\n",
    "print(\"Highly negative words: \")\n",
    "print([str(x) for x in list(vocab[neg_inds])])\n",
    "\n",
    "## Words with large positive values\n",
    "pos_inds = inds[-49:-1]\n",
    "print(\"Highly positive words: \")\n",
    "print([str(x) for x in list(vocab[pos_inds])])"
   ]
  },
  {
   "cell_type": "code",
   "execution_count": 55,
   "metadata": {
    "collapsed": true
   },
   "outputs": [],
   "source": [
    "def lasso_regression(data, predictors, alpha):\n",
    "    #Fit the model\n",
    "    lassoreg = Lasso(alpha=alpha,normalize=True)\n",
    "    lassoreg.fit(data,predictors)\n",
    "    y_pred = lassoreg.predict(data)\n",
    "    \n",
    "    #Return\n",
    "    rss = sum((y_pred-predictors)**2)\n",
    "    ret = [rss]\n",
    "    ret.extend([lassoreg.intercept_])\n",
    "    ret.extend(lassoreg.coef_)\n",
    "    return ret"
   ]
  },
  {
   "cell_type": "code",
   "execution_count": 68,
   "metadata": {
    "collapsed": false
   },
   "outputs": [],
   "source": [
    "#Define the alpha values to test\n",
    "alpha_lasso = [0.007, 0.01,0.03,0.07,0.1]\n",
    "\n",
    "#Initialize the dataframe to store coefficients\n",
    "col = ['rss','intercept'] + ['coef_x_%d'%i for i in range(1,101)]\n",
    "ind = ['alpha_%.2g'%alpha_lasso[i] for i in range(5)]\n",
    "coef_matrix_lasso = pd.DataFrame(index=ind, columns=col)\n",
    "\n",
    "#another table\n",
    "#result = pd.DataFrame(index = np.arange(100))\n",
    "\n",
    "#Iterate over the 10 alpha values:\n",
    "for i in range(5):\n",
    "    coef_matrix_lasso.iloc[i,] = lasso_regression(x, y, alpha_lasso[i])\n",
    "    \n",
    "#Get index\n",
    "list1 = []\n",
    "for i in range(5):\n",
    "    filter = coef_matrix_lasso.iloc[i] > 0\n",
    "    list1 += [coef_matrix_lasso.iloc[i].index[filter]]"
   ]
  },
  {
   "cell_type": "code",
   "execution_count": null,
   "metadata": {
    "collapsed": true
   },
   "outputs": [],
   "source": []
  },
  {
   "cell_type": "code",
   "execution_count": 69,
   "metadata": {
    "collapsed": false
   },
   "outputs": [
    {
     "data": {
      "text/plain": [
       "[Index(['rss', 'coef_x_2', 'coef_x_3', 'coef_x_5', 'coef_x_7', 'coef_x_11',\n",
       "        'coef_x_13', 'coef_x_17', 'coef_x_19', 'coef_x_20', 'coef_x_21',\n",
       "        'coef_x_23', 'coef_x_29', 'coef_x_32', 'coef_x_49', 'coef_x_50',\n",
       "        'coef_x_54', 'coef_x_56', 'coef_x_57', 'coef_x_70', 'coef_x_73',\n",
       "        'coef_x_76', 'coef_x_78', 'coef_x_81', 'coef_x_92', 'coef_x_93',\n",
       "        'coef_x_97', 'coef_x_100'],\n",
       "       dtype='object'),\n",
       " Index(['rss', 'coef_x_2', 'coef_x_3', 'coef_x_5', 'coef_x_7', 'coef_x_11',\n",
       "        'coef_x_13', 'coef_x_17', 'coef_x_19', 'coef_x_20', 'coef_x_21',\n",
       "        'coef_x_23', 'coef_x_29', 'coef_x_42', 'coef_x_49', 'coef_x_50',\n",
       "        'coef_x_56', 'coef_x_57', 'coef_x_70', 'coef_x_73', 'coef_x_76',\n",
       "        'coef_x_78', 'coef_x_81', 'coef_x_92'],\n",
       "       dtype='object'),\n",
       " Index(['rss', 'coef_x_2', 'coef_x_3', 'coef_x_5', 'coef_x_7', 'coef_x_11',\n",
       "        'coef_x_13', 'coef_x_17', 'coef_x_19', 'coef_x_23', 'coef_x_29',\n",
       "        'coef_x_78', 'coef_x_81'],\n",
       "       dtype='object'),\n",
       " Index(['rss', 'coef_x_5', 'coef_x_7', 'coef_x_11', 'coef_x_13', 'coef_x_17',\n",
       "        'coef_x_19', 'coef_x_23'],\n",
       "       dtype='object'),\n",
       " Index(['rss', 'coef_x_11', 'coef_x_17', 'coef_x_19', 'coef_x_23'], dtype='object')]"
      ]
     },
     "execution_count": 69,
     "metadata": {},
     "output_type": "execute_result"
    }
   ],
   "source": [
    "list1"
   ]
  },
  {
   "cell_type": "code",
   "execution_count": null,
   "metadata": {
    "collapsed": true
   },
   "outputs": [],
   "source": [
    "\n",
    "def ridge_regression(data, predictors, alpha):\n",
    "    #Fit the model\n",
    "    ridgereg = Ridge(alpha=alpha,normalize=True)\n",
    "    ridgereg.fit(data[predictors],data['y'])\n",
    "    y_pred = ridgereg.predict(data[predictors])"
   ]
  },
  {
   "cell_type": "markdown",
   "metadata": {},
   "source": [
    "# Sentiment analysis using logistic regression"
   ]
  },
  {
   "cell_type": "markdown",
   "metadata": {},
   "source": [
    "## 1. Set up notebook, load and preprocess data"
   ]
  },
  {
   "cell_type": "code",
   "execution_count": 1,
   "metadata": {
    "collapsed": true
   },
   "outputs": [],
   "source": [
    "%matplotlib inline\n",
    "import string\n",
    "import numpy as np\n",
    "import matplotlib\n",
    "import matplotlib.pyplot as plt\n",
    "matplotlib.rc('xtick', labelsize=14) \n",
    "matplotlib.rc('ytick', labelsize=14)"
   ]
  },
  {
   "cell_type": "code",
   "execution_count": 3,
   "metadata": {
    "collapsed": false
   },
   "outputs": [],
   "source": [
    "## Read in the data set.\n",
    "with open(\"C:/Users/tp179902741/Documents/Machine_learning/sentiment-logistic-regression/sentiment_labelled_sentences/full_set.txt\") as f:\n",
    "    content = f.readlines()\n",
    "    \n",
    "## Remove leading and trailing white space\n",
    "content = [x.strip() for x in content]\n",
    "\n",
    "## Separate the sentences from the labels\n",
    "sentences = [x.split(\"\\t\")[0] for x in content]\n",
    "labels = [x.split(\"\\t\")[1] for x in content]\n",
    "\n",
    "## Transform the labels from '0 v.s. 1' to '-1 v.s. 1'\n",
    "y = np.array(labels, dtype='int8')\n",
    "y = 2*y - 1"
   ]
  },
  {
   "cell_type": "code",
   "execution_count": 4,
   "metadata": {
    "collapsed": false
   },
   "outputs": [
    {
     "data": {
      "text/plain": [
       "['So there is no way for me to plug it in here in the US unless I go by a converter.\\t0',\n",
       " 'Good case, Excellent value.\\t1',\n",
       " 'Great for the jawbone.\\t1',\n",
       " 'Tied to charger for conversations lasting more than 45 minutes.MAJOR PROBLEMS!!\\t0',\n",
       " 'The mic is great.\\t1']"
      ]
     },
     "execution_count": 4,
     "metadata": {},
     "output_type": "execute_result"
    }
   ],
   "source": [
    "content[:5]"
   ]
  },
  {
   "cell_type": "markdown",
   "metadata": {},
   "source": [
    "### Preprocessing the text data\n",
    "1. Remove punctuation and numbers.\n",
    "2. Transform all words to lower-case.\n",
    "3. Remove _stop words_.\n",
    "4. Convert the sentences into vectors, using a bag-of-words representation."
   ]
  },
  {
   "cell_type": "code",
   "execution_count": 5,
   "metadata": {
    "collapsed": true
   },
   "outputs": [],
   "source": [
    "## full_remove takes a string x and a list of characters removal_list \n",
    "## returns x with all the characters in removal_list replaced by ' '\n",
    "def full_remove(x, removal_list):\n",
    "    for w in removal_list:\n",
    "        x = x.replace(w, ' ')\n",
    "    return x\n",
    "\n",
    "## Remove digits\n",
    "digits = [str(x) for x in range(10)]\n",
    "digit_less = [full_remove(x, digits) for x in sentences]\n",
    "\n",
    "## Remove punctuation\n",
    "punc_less = [full_remove(x, list(string.punctuation)) for x in digit_less]\n",
    "\n",
    "## Make everything lower-case\n",
    "sents_lower = [x.lower() for x in punc_less]"
   ]
  },
  {
   "cell_type": "code",
   "execution_count": 6,
   "metadata": {
    "collapsed": false
   },
   "outputs": [
    {
     "name": "stdout",
     "output_type": "stream",
     "text": [
      "So there is no way for me to plug it in here in the US unless I go by a converter.\n",
      "Good case, Excellent value.\n",
      "Great for the jawbone.\n"
     ]
    }
   ],
   "source": [
    "for i in sentences[:3]:\n",
    "    print(i)"
   ]
  },
  {
   "cell_type": "code",
   "execution_count": 8,
   "metadata": {
    "collapsed": false
   },
   "outputs": [
    {
     "data": {
      "text/plain": [
       "1"
      ]
     },
     "execution_count": 8,
     "metadata": {},
     "output_type": "execute_result"
    }
   ],
   "source": [
    "test = [1,2,3,4]\n",
    "test[0]"
   ]
  },
  {
   "cell_type": "code",
   "execution_count": 9,
   "metadata": {
    "collapsed": true
   },
   "outputs": [],
   "source": [
    "test[0] = 10"
   ]
  },
  {
   "cell_type": "code",
   "execution_count": 11,
   "metadata": {
    "collapsed": false
   },
   "outputs": [
    {
     "data": {
      "text/plain": [
       "['!',\n",
       " '\"',\n",
       " '#',\n",
       " '$',\n",
       " '%',\n",
       " '&',\n",
       " \"'\",\n",
       " '(',\n",
       " ')',\n",
       " '*',\n",
       " '+',\n",
       " ',',\n",
       " '-',\n",
       " '.',\n",
       " '/',\n",
       " ':',\n",
       " ';',\n",
       " '<',\n",
       " '=',\n",
       " '>',\n",
       " '?',\n",
       " '@',\n",
       " '[',\n",
       " '\\\\',\n",
       " ']',\n",
       " '^',\n",
       " '_',\n",
       " '`',\n",
       " '{',\n",
       " '|',\n",
       " '}',\n",
       " '~']"
      ]
     },
     "execution_count": 11,
     "metadata": {},
     "output_type": "execute_result"
    }
   ],
   "source": [
    "list(string.punctuation)"
   ]
  },
  {
   "cell_type": "code",
   "execution_count": 12,
   "metadata": {
    "collapsed": true
   },
   "outputs": [],
   "source": [
    "## Define our stop words\n",
    "stop_set = set(['the', 'a', 'an', 'i', 'he', 'she', 'they', 'to', 'of', 'it', 'from'])\n",
    "\n",
    "## Remove stop words\n",
    "sents_split = [x.split() for x in sents_lower]\n",
    "sents_processed = [\" \".join(list(filter(lambda a: a not in stop_set, x))) for x in sents_split]"
   ]
  },
  {
   "cell_type": "code",
   "execution_count": 25,
   "metadata": {
    "collapsed": false
   },
   "outputs": [
    {
     "data": {
      "text/plain": [
       "3000"
      ]
     },
     "execution_count": 25,
     "metadata": {},
     "output_type": "execute_result"
    }
   ],
   "source": [
    "len(sents_processed)"
   ]
  },
  {
   "cell_type": "code",
   "execution_count": 108,
   "metadata": {
    "collapsed": false
   },
   "outputs": [],
   "source": [
    "from sklearn.feature_extraction.text import CountVectorizer\n",
    "\n",
    "## Transform to bag of words representation.\n",
    "vectorizer = CountVectorizer(analyzer = \"word\", tokenizer = None, preprocessor = None, stop_words = None, max_features = 4500)\n",
    "data_features = vectorizer.fit_transform(sents_processed)\n",
    "\n",
    "## Append '1' to the end of each vector.\n",
    "data_mat = data_features.toarray()\n",
    "\n",
    "# p_mat = data_features.toarray()\n",
    "# data_mat = np.ones((p_mat.shape[0], p_mat.shape[1]+1))\n",
    "# data_mat[:,:-1] = p_mat"
   ]
  },
  {
   "cell_type": "code",
   "execution_count": 109,
   "metadata": {
    "collapsed": false
   },
   "outputs": [
    {
     "data": {
      "text/plain": [
       "(3000, 4500)"
      ]
     },
     "execution_count": 109,
     "metadata": {},
     "output_type": "execute_result"
    }
   ],
   "source": [
    "data_mat.shape"
   ]
  },
  {
   "cell_type": "code",
   "execution_count": 26,
   "metadata": {
    "collapsed": false
   },
   "outputs": [
    {
     "data": {
      "text/plain": [
       "scipy.sparse.csr.csr_matrix"
      ]
     },
     "execution_count": 26,
     "metadata": {},
     "output_type": "execute_result"
    }
   ],
   "source": [
    "type(data_features)"
   ]
  },
  {
   "cell_type": "code",
   "execution_count": null,
   "metadata": {
    "collapsed": true
   },
   "outputs": [],
   "source": []
  },
  {
   "cell_type": "markdown",
   "metadata": {},
   "source": [
    "### Training / test split"
   ]
  },
  {
   "cell_type": "code",
   "execution_count": 110,
   "metadata": {
    "collapsed": false
   },
   "outputs": [
    {
     "name": "stdout",
     "output_type": "stream",
     "text": [
      "train data:  (2500, 4500)\n",
      "test data:  (500, 4500)\n"
     ]
    }
   ],
   "source": [
    "## Split the data into testing and training sets\n",
    "np.random.seed(0)\n",
    "test_inds = np.append(np.random.choice((np.where(y==-1))[0], 250, replace=False), np.random.choice((np.where(y==1))[0], 250, replace=False))\n",
    "train_inds = list(set(range(len(labels))) - set(test_inds))\n",
    "\n",
    "train_data = data_mat[train_inds,]\n",
    "train_labels = y[train_inds]\n",
    "\n",
    "test_data = data_mat[test_inds,]\n",
    "test_labels = y[test_inds]\n",
    "\n",
    "print(\"train data: \", train_data.shape)\n",
    "print(\"test data: \", test_data.shape)"
   ]
  },
  {
   "cell_type": "code",
   "execution_count": 28,
   "metadata": {
    "collapsed": false
   },
   "outputs": [
    {
     "data": {
      "text/plain": [
       "array([-1,  1,  1, ..., -1, -1, -1], dtype=int8)"
      ]
     },
     "execution_count": 28,
     "metadata": {},
     "output_type": "execute_result"
    }
   ],
   "source": [
    "y"
   ]
  },
  {
   "cell_type": "code",
   "execution_count": 47,
   "metadata": {
    "collapsed": false
   },
   "outputs": [],
   "source": [
    "a =(np.where(y==-1))"
   ]
  },
  {
   "cell_type": "code",
   "execution_count": 48,
   "metadata": {
    "collapsed": false
   },
   "outputs": [
    {
     "data": {
      "text/plain": [
       "(array([   0,    3,    5, ..., 2997, 2998, 2999], dtype=int64),)"
      ]
     },
     "execution_count": 48,
     "metadata": {},
     "output_type": "execute_result"
    }
   ],
   "source": [
    "a"
   ]
  },
  {
   "cell_type": "code",
   "execution_count": 49,
   "metadata": {
    "collapsed": false
   },
   "outputs": [],
   "source": [
    "set1 = set([1,2,3,4,5])\n",
    "set2 = set([2,4])"
   ]
  },
  {
   "cell_type": "code",
   "execution_count": 53,
   "metadata": {
    "collapsed": false,
    "scrolled": true
   },
   "outputs": [
    {
     "data": {
      "text/plain": [
       "{1, 3, 5}"
      ]
     },
     "execution_count": 53,
     "metadata": {},
     "output_type": "execute_result"
    }
   ],
   "source": [
    "set1 - set2"
   ]
  },
  {
   "cell_type": "markdown",
   "metadata": {},
   "source": [
    "## 2. Fitting a logistic regression model to the training data\n",
    "Due to the randomness in the SGD procedure, different runs can yield slightly different solutions (and thus different error values)"
   ]
  },
  {
   "cell_type": "code",
   "execution_count": 111,
   "metadata": {
    "collapsed": false
   },
   "outputs": [
    {
     "name": "stderr",
     "output_type": "stream",
     "text": [
      "C:\\Users\\tp179902741\\Anaconda3\\lib\\site-packages\\sklearn\\linear_model\\stochastic_gradient.py:84: FutureWarning: max_iter and tol parameters have been added in <class 'sklearn.linear_model.stochastic_gradient.SGDClassifier'> in 0.19. If both are left unset, they default to max_iter=5 and tol=None. If tol is not None, max_iter defaults to max_iter=1000. From 0.21, default max_iter will be 1000, and default tol will be 1e-3.\n",
      "  \"and default tol will be 1e-3.\" % type(self), FutureWarning)\n"
     ]
    },
    {
     "name": "stdout",
     "output_type": "stream",
     "text": [
      "Training error:  0.016\n",
      "Test error:  0.186\n"
     ]
    }
   ],
   "source": [
    "from sklearn.linear_model import SGDClassifier\n",
    "\n",
    "## Fit logistic classifier on training data\n",
    "clf = SGDClassifier(loss=\"log\", penalty=\"none\") # 'log' logistic regression\n",
    "clf.fit(train_data, train_labels)\n",
    "\n",
    "## Pull out the parameters (w,b) of the logistic regression model\n",
    "w = clf.coef_[0,:]\n",
    "b = clf.intercept_\n",
    "\n",
    "## Get predictions on training and test data\n",
    "preds_train = clf.predict(train_data)\n",
    "preds_test = clf.predict(test_data)\n",
    "\n",
    "## Compute errors\n",
    "errs_train = np.sum((preds_train > 0.0) != (train_labels > 0.0))\n",
    "errs_test = np.sum((preds_test > 0.0) != (test_labels > 0.0))\n",
    "\n",
    "print (\"Training error: \", float(errs_train)/len(train_labels))\n",
    "print (\"Test error: \", float(errs_test)/len(test_labels))"
   ]
  },
  {
   "cell_type": "code",
   "execution_count": 70,
   "metadata": {
    "collapsed": false
   },
   "outputs": [
    {
     "data": {
      "text/plain": [
       "array([-1,  1], dtype=int8)"
      ]
     },
     "execution_count": 70,
     "metadata": {},
     "output_type": "execute_result"
    }
   ],
   "source": [
    "clf.classes_"
   ]
  },
  {
   "cell_type": "markdown",
   "metadata": {},
   "source": [
    "## 3. Analyzing the margin\n"
   ]
  },
  {
   "cell_type": "code",
   "execution_count": 112,
   "metadata": {
    "collapsed": true
   },
   "outputs": [],
   "source": [
    "## Return number of test points for which Pr(y=1) lies in [0, 0.5 - gamma) or (0.5 + gamma, 1]\n",
    "def margin_counts(clf, test_data, gamma):\n",
    "    ## Compute probability on each test point\n",
    "    preds = clf.predict_proba(test_data)[:,1] #clf.classes_能知道class的order\n",
    "    ## Find data points for which prediction is at least gamma away from 0.5\n",
    "    margin_inds = np.where((preds > (0.5+gamma)) | (preds < (0.5-gamma)))[0]\n",
    "    \n",
    "    return float(len(margin_inds))"
   ]
  },
  {
   "cell_type": "code",
   "execution_count": 113,
   "metadata": {
    "collapsed": false
   },
   "outputs": [
    {
     "data": {
      "image/png": "[encoded data removed]",
      "text/plain": [
       "<matplotlib.figure.Figure at 0x29c67b66898>"
      ]
     },
     "metadata": {},
     "output_type": "display_data"
    }
   ],
   "source": [
    "gammas = np.arange(0,0.5,0.01)\n",
    "f = np.vectorize(lambda g: margin_counts(clf, test_data, g))\n",
    "plt.plot(gammas, f(gammas)/500.0, linewidth=2, color='green')\n",
    "plt.xlabel('Margin', fontsize=14)\n",
    "plt.ylabel('Fraction of points above margin', fontsize=14)\n",
    "plt.show()"
   ]
  },
  {
   "cell_type": "code",
   "execution_count": 114,
   "metadata": {
    "collapsed": true
   },
   "outputs": [],
   "source": [
    "## Return error of predictions that lie in intervals [0, 0.5 - gamma) and (0.5 + gamma, 1]\n",
    "def margin_errors(clf, test_data, test_labels, gamma):\n",
    "    ## Compute probability on each test point\n",
    "    preds = clf.predict_proba(test_data)[:,1]\n",
    "    \n",
    "    ## Find data points for which prediction is at least gamma away from 0.5\n",
    "    margin_inds = np.where((preds > (0.5+gamma)) | (preds < (0.5-gamma)))[0]\n",
    "    \n",
    "    ## Compute error on those data points.\n",
    "    num_errors = np.sum((preds[margin_inds] > 0.5) != (test_labels[margin_inds] > 0.0))\n",
    "    return float(num_errors)/len(margin_inds)"
   ]
  },
  {
   "cell_type": "code",
   "execution_count": 115,
   "metadata": {
    "collapsed": false
   },
   "outputs": [
    {
     "data": {
      "image/png": "[encoded data removed]",
      "text/plain": [
       "<matplotlib.figure.Figure at 0x29c0bd70a20>"
      ]
     },
     "metadata": {},
     "output_type": "display_data"
    }
   ],
   "source": [
    "## Create grid of gamma values\n",
    "gammas = np.arange(0, 0.5, 0.01)\n",
    "\n",
    "## Compute margin_errors on test data for each value of g\n",
    "f = np.vectorize(lambda g: margin_errors(clf, test_data, test_labels, g))\n",
    "\n",
    "## Plot the result\n",
    "plt.plot(gammas, f(gammas), linewidth=2)\n",
    "plt.ylabel('Error rate', fontsize=14)\n",
    "plt.xlabel('Margin', fontsize=14)\n",
    "plt.show()"
   ]
  },
  {
   "cell_type": "markdown",
   "metadata": {},
   "source": [
    "## 4. Words with large influence"
   ]
  },
  {
   "cell_type": "code",
   "execution_count": 165,
   "metadata": {
    "collapsed": false
   },
   "outputs": [
    {
     "name": "stdout",
     "output_type": "stream",
     "text": [
      "Highly negative words: \n",
      "['sucks', 'worst', 'bad', 'poor', 'avoid', 'aren', 'bland', 'wasn', 'pm', 'rude', 'started', 'unfortunately', 'directing', 'slow', 'mediocre', 'wasted', 'then', 'disappointment', 'minutes', 'ok', 'stereotypes', 'return', 'stupid', 'wife', 'fly', 'racial', 'literally', 'looks', 'waste', 'fails', 'another', 'ripped', 'low', 'picture', 'dishes', 'within', 'boring', 'make', 'torture', 'awful', 'guess', 'flat', 'green', 'sitting', 'not', 'disappointing', 'put', 'year', 'depth', 'received']\n",
      "Highly positive words: \n",
      "['carry', 'happy', 'amount', 'sauce', 'art', 'tom', 'happier', 'brings', 'steak', 'best', 'wow', 'parts', 'enjoyed', 'cult', 'plays', 'beer', 'incredible', 'angel', 'definitely', 'ponyo', 'years', 'lovely', 'sex', 'family', 'hope', 'fun', 'occasionally', 'love', 'funny', 'decent', 'easy', 'cool', 'exactly', 'amazing', 'joy', 'scamp', 'works', 'awesome', 'delicious', 'great', 'loved', 'fantastic', 'liked', 'interesting', 'beautiful', 'comfortable', 'excellent', 'nice']\n"
     ]
    }
   ],
   "source": [
    "## Convert vocabulary into a list:\n",
    "#vectorizer.vocabulary_.items()得出4500个单词的各自的频数dict，key为每个pair的第二个值，即频数\n",
    "#再用z[0]将第一位提取出来\n",
    "vocab = np.array([z[0] for z in sorted(vectorizer.vocabulary_.items(), key=lambda x:x[1])], order='K')\n",
    "\n",
    "## Get indices of sorting w\n",
    "inds = np.argsort(w)\n",
    "\n",
    "## Words with large negative values\n",
    "neg_inds = inds[0:50]\n",
    "print(\"Highly negative words: \")\n",
    "print([str(x) for x in list(vocab[neg_inds])])\n",
    "\n",
    "## Words with large positive values\n",
    "pos_inds = inds[-49:-1]\n",
    "print(\"Highly positive words: \")\n",
    "print([str(x) for x in list(vocab[pos_inds])])"
   ]
  },
  {
   "cell_type": "code",
   "execution_count": 83,
   "metadata": {
    "collapsed": false
   },
   "outputs": [],
   "source": [
    "vocab2 = np.array([z[0] for z in sorted(vectorizer.vocabulary_.items())])"
   ]
  },
  {
   "cell_type": "code",
   "execution_count": 85,
   "metadata": {
    "collapsed": false
   },
   "outputs": [
    {
     "data": {
      "text/plain": [
       "array(['youthful', 'youtube', 'yucky', 'yukon', 'yum', 'yummy', 'yun',\n",
       "       'zero', 'zillion'],\n",
       "      dtype='<U17')"
      ]
     },
     "execution_count": 85,
     "metadata": {},
     "output_type": "execute_result"
    }
   ],
   "source": [
    "vocab2[-10:-1]"
   ]
  },
  {
   "cell_type": "code",
   "execution_count": 76,
   "metadata": {
    "collapsed": false
   },
   "outputs": [
    {
     "data": {
      "text/plain": [
       "array([3742, 4449,  303, 2769,  275,  205,  429, 4319, 2750, 3187, 3628,\n",
       "       4131, 1210, 3489, 2288, 4321, 3897, 1225, 2352, 2470, 3653, 3110,\n",
       "       3711, 4391, 1685, 2941, 2124, 2151, 4320, 1596,  165, 3145, 2179,\n",
       "       2693, 1241, 4417,  478, 2217, 3993,  283, 1785, 1673, 1776, 3460,\n",
       "       2445, 1224, 2919, 4476, 1146, 2995], dtype=int64)"
      ]
     },
     "execution_count": 76,
     "metadata": {},
     "output_type": "execute_result"
    }
   ],
   "source": [
    "neg_inds"
   ]
  },
  {
   "cell_type": "code",
   "execution_count": 166,
   "metadata": {
    "collapsed": false
   },
   "outputs": [
    {
     "data": {
      "text/plain": [
       "array(['youthful', 'youtube', 'yucky', 'yukon', 'yum', 'yummy', 'yun',\n",
       "       'zero', 'zillion'],\n",
       "      dtype='<U17')"
      ]
     },
     "execution_count": 166,
     "metadata": {},
     "output_type": "execute_result"
    }
   ],
   "source": [
    "vocab[-10:-1]"
   ]
  },
  {
   "cell_type": "code",
   "execution_count": 134,
   "metadata": {
    "collapsed": true
   },
   "outputs": [],
   "source": [
    "a = np.array(['carry', 'happy', 'amount', 'sauce', 'art', 'tom', 'happier', 'brings', 'steak', 'best', 'wow', 'parts', 'enjoyed', 'cult', 'plays', 'beer', 'incredible', 'angel', 'definitely', 'ponyo', 'years', 'lovely', 'sex', 'family', 'hope', 'fun', 'occasionally', 'love', 'funny', 'decent', 'easy', 'cool', 'exactly', 'amazing', 'joy', 'scamp', 'works', 'awesome', 'delicious', 'great', 'loved', 'fantastic', 'liked', 'interesting', 'beautiful', 'comfortable', 'excellent', 'nice'])"
   ]
  },
  {
   "cell_type": "code",
   "execution_count": 130,
   "metadata": {
    "collapsed": true
   },
   "outputs": [],
   "source": [
    "b = np.array(['amount', 'adaptation', 'appreciate', 'hands', 'smoothly', 'sex', 'dialing', 'happier', 'characters', 'cult', 'song', 'emotions', 'works', 'best', 'huge', 'reasonable', 'jawbone', 'watch', 'world', 'incredible', 'shot', 'young', 'winner', 'cool', 'cases', 'perfectly', 'mention', 'sturdy', 'fun', 'amazing', 'type', 'recommended', 'happy', 'awesome', 'fantastic', 'liked', 'enjoyed', 'both', 'beautiful', 'rocks', 'delicious', 'loved', 'excellent', 'love', 'great', 'silent', 'perfect', 'nice'])"
   ]
  },
  {
   "cell_type": "code",
   "execution_count": 91,
   "metadata": {
    "collapsed": true
   },
   "outputs": [],
   "source": [
    "a = np.array(a)"
   ]
  },
  {
   "cell_type": "code",
   "execution_count": 135,
   "metadata": {
    "collapsed": false
   },
   "outputs": [
    {
     "data": {
      "text/plain": [
       "26"
      ]
     },
     "execution_count": 135,
     "metadata": {},
     "output_type": "execute_result"
    }
   ],
   "source": [
    "len(np.setdiff1d(a,b))"
   ]
  },
  {
   "cell_type": "code",
   "execution_count": 174,
   "metadata": {
    "collapsed": false
   },
   "outputs": [],
   "source": [
    "list1 = sorted(vectorizer.vocabulary_.items(), key=lambda s:s[1])"
   ]
  },
  {
   "cell_type": "code",
   "execution_count": 175,
   "metadata": {
    "collapsed": false
   },
   "outputs": [
    {
     "data": {
      "text/plain": [
       "[('youthful', 4490),\n",
       " ('youtube', 4491),\n",
       " ('yucky', 4492),\n",
       " ('yukon', 4493),\n",
       " ('yum', 4494),\n",
       " ('yummy', 4495),\n",
       " ('yun', 4496),\n",
       " ('zero', 4497),\n",
       " ('zillion', 4498),\n",
       " ('zombie', 4499)]"
      ]
     },
     "execution_count": 175,
     "metadata": {},
     "output_type": "execute_result"
    }
   ],
   "source": [
    "list1[-10:]"
   ]
  },
  {
   "cell_type": "code",
   "execution_count": 179,
   "metadata": {
    "collapsed": false
   },
   "outputs": [
    {
     "data": {
      "text/plain": [
       "(3000, 4500)"
      ]
     },
     "execution_count": 179,
     "metadata": {},
     "output_type": "execute_result"
    }
   ],
   "source": [
    "data_features.shape"
   ]
  },
  {
   "cell_type": "code",
   "execution_count": 163,
   "metadata": {
    "collapsed": false
   },
   "outputs": [],
   "source": [
    "vocab = []\n",
    "for z in list1[:5]:\n",
    "    vocab.extend(z[0])"
   ]
  },
  {
   "cell_type": "code",
   "execution_count": 167,
   "metadata": {
    "collapsed": false
   },
   "outputs": [],
   "source": [
    "list1 = [z[0] for z in sorted(vectorizer.vocabulary_.items(), key=lambda x:x[1])]"
   ]
  },
  {
   "cell_type": "code",
   "execution_count": 170,
   "metadata": {
    "collapsed": false
   },
   "outputs": [
    {
     "data": {
      "text/plain": [
       "['aailiyah',\n",
       " 'abandoned',\n",
       " 'abhor',\n",
       " 'ability',\n",
       " 'able',\n",
       " 'abound',\n",
       " 'about',\n",
       " 'above',\n",
       " 'abroad',\n",
       " 'absolute',\n",
       " 'absolutel',\n",
       " 'absolutely',\n",
       " 'absolutley',\n",
       " 'abstruse',\n",
       " 'abysmal',\n",
       " 'ac',\n",
       " 'academy',\n",
       " 'accents',\n",
       " 'accept',\n",
       " 'acceptable',\n",
       " 'access',\n",
       " 'accessable',\n",
       " 'accessible',\n",
       " 'accessing',\n",
       " 'accessory',\n",
       " 'accessoryone',\n",
       " 'accident',\n",
       " 'accidentally',\n",
       " 'acclaimed',\n",
       " 'accolades',\n",
       " 'accommodations',\n",
       " 'accomodate',\n",
       " 'accompanied',\n",
       " 'according',\n",
       " 'accordingly',\n",
       " 'accountant',\n",
       " 'accurate',\n",
       " 'accurately',\n",
       " 'accused',\n",
       " 'ache',\n",
       " 'achievement',\n",
       " 'achille',\n",
       " 'ackerman',\n",
       " 'acknowledged',\n",
       " 'across',\n",
       " 'act',\n",
       " 'acted',\n",
       " 'acting',\n",
       " 'action',\n",
       " 'actions',\n",
       " 'activate',\n",
       " 'activated',\n",
       " 'activesync',\n",
       " 'actor',\n",
       " 'actors',\n",
       " 'actress',\n",
       " 'actresses',\n",
       " 'actual',\n",
       " 'actually',\n",
       " 'ad',\n",
       " 'adams',\n",
       " 'adaptation',\n",
       " 'adapter',\n",
       " 'adapters',\n",
       " 'add',\n",
       " 'added',\n",
       " 'addition',\n",
       " 'additional',\n",
       " 'address',\n",
       " 'adhesive',\n",
       " 'admins',\n",
       " 'admiration',\n",
       " 'admitted',\n",
       " 'adorable',\n",
       " 'adrift',\n",
       " 'adventure',\n",
       " 'advertised',\n",
       " 'advise',\n",
       " 'aerial',\n",
       " 'aesthetically',\n",
       " 'affected',\n",
       " 'affleck',\n",
       " 'affordable',\n",
       " 'afraid',\n",
       " 'africa',\n",
       " 'after',\n",
       " 'afternoon',\n",
       " 'again',\n",
       " 'against',\n",
       " 'age',\n",
       " 'aged',\n",
       " 'ages',\n",
       " 'aggravating',\n",
       " 'ago',\n",
       " 'agree',\n",
       " 'agreed',\n",
       " 'ahead',\n",
       " 'aimless',\n",
       " 'air',\n",
       " 'aired',\n",
       " 'airline',\n",
       " 'airport',\n",
       " 'akasha',\n",
       " 'akin',\n",
       " 'ala',\n",
       " 'alarm',\n",
       " 'albondigas',\n",
       " 'alert',\n",
       " 'alexander',\n",
       " 'alike',\n",
       " 'all',\n",
       " 'allergy',\n",
       " 'allison',\n",
       " 'allot',\n",
       " 'allow',\n",
       " 'allowing',\n",
       " 'allows',\n",
       " 'almonds',\n",
       " 'almost',\n",
       " 'alone',\n",
       " 'along',\n",
       " 'alongside',\n",
       " 'alot',\n",
       " 'already',\n",
       " 'also',\n",
       " 'although',\n",
       " 'aluminum',\n",
       " 'always',\n",
       " 'am',\n",
       " 'amateurish',\n",
       " 'amaze',\n",
       " 'amazed',\n",
       " 'amazing',\n",
       " 'amazingly',\n",
       " 'amazon',\n",
       " 'ambiance',\n",
       " 'ambience',\n",
       " 'america',\n",
       " 'american',\n",
       " 'americans',\n",
       " 'among',\n",
       " 'amount',\n",
       " 'amp',\n",
       " 'ample',\n",
       " 'amusing',\n",
       " 'anatomist',\n",
       " 'and',\n",
       " 'andddd',\n",
       " 'angel',\n",
       " 'angela',\n",
       " 'angeles',\n",
       " 'angelina',\n",
       " 'angle',\n",
       " 'angles',\n",
       " 'angry',\n",
       " 'anguish',\n",
       " 'angus',\n",
       " 'animals',\n",
       " 'animated',\n",
       " 'animation',\n",
       " 'anita',\n",
       " 'ann',\n",
       " 'anne',\n",
       " 'anniversary',\n",
       " 'annoying',\n",
       " 'another',\n",
       " 'answer',\n",
       " 'ant',\n",
       " 'antena',\n",
       " 'anthony',\n",
       " 'anti',\n",
       " 'anticipated',\n",
       " 'antithesis',\n",
       " 'any',\n",
       " 'anymore',\n",
       " 'anyone',\n",
       " 'anything',\n",
       " 'anytime',\n",
       " 'anyway',\n",
       " 'anyways',\n",
       " 'anywhere',\n",
       " 'apart',\n",
       " 'apartment',\n",
       " 'apologize',\n",
       " 'apology',\n",
       " 'app',\n",
       " 'appalling',\n",
       " 'apparently',\n",
       " 'appealing',\n",
       " 'appearance',\n",
       " 'appears',\n",
       " 'appetite',\n",
       " 'appetizer',\n",
       " 'appetizers',\n",
       " 'applauded',\n",
       " 'applause',\n",
       " 'apple',\n",
       " 'applifies',\n",
       " 'appointments',\n",
       " 'appreciate',\n",
       " 'appropriate',\n",
       " 'approval',\n",
       " 'apt',\n",
       " 'are',\n",
       " 'area',\n",
       " 'aren',\n",
       " 'arepas',\n",
       " 'argued',\n",
       " 'arguing',\n",
       " 'aria',\n",
       " 'armageddon',\n",
       " 'armand',\n",
       " 'armband',\n",
       " 'around',\n",
       " 'array',\n",
       " 'arrival',\n",
       " 'arrived',\n",
       " 'arrives',\n",
       " 'arriving',\n",
       " 'art',\n",
       " 'article',\n",
       " 'articulated',\n",
       " 'artiness',\n",
       " 'artist',\n",
       " 'artistic',\n",
       " 'artless',\n",
       " 'arts',\n",
       " 'as',\n",
       " 'asia',\n",
       " 'aside',\n",
       " 'ask',\n",
       " 'asked',\n",
       " 'asking',\n",
       " 'asleep',\n",
       " 'aspect',\n",
       " 'aspects',\n",
       " 'ass',\n",
       " 'assante',\n",
       " 'assaulted',\n",
       " 'assistant',\n",
       " 'assumed',\n",
       " 'assure',\n",
       " 'astonishingly',\n",
       " 'astronaut',\n",
       " 'at',\n",
       " 'ate',\n",
       " 'atleast',\n",
       " 'atmosphere',\n",
       " 'atrocious',\n",
       " 'atrocity',\n",
       " 'att',\n",
       " 'attached',\n",
       " 'attack',\n",
       " 'attacked',\n",
       " 'attempt',\n",
       " 'attempted',\n",
       " 'attempting',\n",
       " 'attempts',\n",
       " 'attention',\n",
       " 'attentive',\n",
       " 'attitudes',\n",
       " 'attractive',\n",
       " 'audience',\n",
       " 'audio',\n",
       " 'auju',\n",
       " 'aurv氓g',\n",
       " 'austen',\n",
       " 'austere',\n",
       " 'authentic',\n",
       " 'author',\n",
       " 'auto',\n",
       " 'available',\n",
       " 'average',\n",
       " 'aversion',\n",
       " 'avocado',\n",
       " 'avoid',\n",
       " 'avoided',\n",
       " 'avoiding',\n",
       " 'award',\n",
       " 'awarded',\n",
       " 'awards',\n",
       " 'away',\n",
       " 'awesome',\n",
       " 'awful',\n",
       " 'awkward',\n",
       " 'awkwardly',\n",
       " 'awsome',\n",
       " 'ayce',\n",
       " 'aye',\n",
       " 'az',\n",
       " 'baaaaaad',\n",
       " 'baba',\n",
       " 'babbling',\n",
       " 'babie',\n",
       " 'baby',\n",
       " 'babysitting',\n",
       " 'bachi',\n",
       " 'back',\n",
       " 'backdrop',\n",
       " 'backed',\n",
       " 'background',\n",
       " 'backlight',\n",
       " 'bacon',\n",
       " 'bad',\n",
       " 'badly',\n",
       " 'bag',\n",
       " 'bagels',\n",
       " 'bailey',\n",
       " 'bakery',\n",
       " 'baklava',\n",
       " 'balance',\n",
       " 'balanced',\n",
       " 'ball',\n",
       " 'ballet',\n",
       " 'balls',\n",
       " 'bamboo',\n",
       " 'banana',\n",
       " 'band',\n",
       " 'bank',\n",
       " 'bar',\n",
       " 'barcelona',\n",
       " 'bare',\n",
       " 'barely',\n",
       " 'bargain',\n",
       " 'barking',\n",
       " 'barney',\n",
       " 'barren',\n",
       " 'bars',\n",
       " 'bartender',\n",
       " 'bartenders',\n",
       " 'baseball',\n",
       " 'based',\n",
       " 'basement',\n",
       " 'basic',\n",
       " 'basically',\n",
       " 'bat',\n",
       " 'batch',\n",
       " 'bates',\n",
       " 'bathroom',\n",
       " 'bathrooms',\n",
       " 'batter',\n",
       " 'batteries',\n",
       " 'battery',\n",
       " 'baxendale',\n",
       " 'bay',\n",
       " 'bbq',\n",
       " 'be',\n",
       " 'bean',\n",
       " 'beans',\n",
       " 'bear',\n",
       " 'beat',\n",
       " 'beateous',\n",
       " 'beats',\n",
       " 'beautiful',\n",
       " 'beautifully',\n",
       " 'beauty',\n",
       " 'became',\n",
       " 'because',\n",
       " 'bechard',\n",
       " 'become',\n",
       " 'becomes',\n",
       " 'bed',\n",
       " 'beef',\n",
       " 'been',\n",
       " 'beep',\n",
       " 'beeping',\n",
       " 'beer',\n",
       " 'beers',\n",
       " 'before',\n",
       " 'began',\n",
       " 'begin',\n",
       " 'beginning',\n",
       " 'behind',\n",
       " 'behing',\n",
       " 'behold',\n",
       " 'being',\n",
       " 'bela',\n",
       " 'believable',\n",
       " 'believe',\n",
       " 'believed',\n",
       " 'bell',\n",
       " 'bellagio',\n",
       " 'bellies',\n",
       " 'bells',\n",
       " 'bellucci',\n",
       " 'belly',\n",
       " 'belmondo',\n",
       " 'below',\n",
       " 'belt',\n",
       " 'ben',\n",
       " 'bend',\n",
       " 'bendingly',\n",
       " 'bennett',\n",
       " 'bergen',\n",
       " 'bertolucci',\n",
       " 'besides',\n",
       " 'best',\n",
       " 'better',\n",
       " 'betty',\n",
       " 'between',\n",
       " 'beware',\n",
       " 'beyond',\n",
       " 'bible',\n",
       " 'big',\n",
       " 'bigger',\n",
       " 'biggest',\n",
       " 'bill',\n",
       " 'bills',\n",
       " 'billy',\n",
       " 'binge',\n",
       " 'biographical',\n",
       " 'bipolarity',\n",
       " 'bird',\n",
       " 'biscuit',\n",
       " 'biscuits',\n",
       " 'bisque',\n",
       " 'bit',\n",
       " 'bitches',\n",
       " 'bitchy',\n",
       " 'bite',\n",
       " 'bites',\n",
       " 'bitpim',\n",
       " 'bits',\n",
       " 'black',\n",
       " 'blackberry',\n",
       " 'blacktop',\n",
       " 'blah',\n",
       " 'blake',\n",
       " 'blame',\n",
       " 'bland',\n",
       " 'blandest',\n",
       " 'blandly',\n",
       " 'blanket',\n",
       " 'blare',\n",
       " 'blatant',\n",
       " 'blew',\n",
       " 'block',\n",
       " 'bloddy',\n",
       " 'blood',\n",
       " 'bloodiest',\n",
       " 'bloody',\n",
       " 'blow',\n",
       " 'blown',\n",
       " 'blows',\n",
       " 'blue',\n",
       " 'blueant',\n",
       " 'bluetoooth',\n",
       " 'bluetooth',\n",
       " 'bluetooths',\n",
       " 'blush',\n",
       " 'bmw',\n",
       " 'boasts',\n",
       " 'bob',\n",
       " 'boba',\n",
       " 'bodes',\n",
       " 'body',\n",
       " 'bohemian',\n",
       " 'boiled',\n",
       " 'boiling',\n",
       " 'bold',\n",
       " 'bombardments',\n",
       " 'bond',\n",
       " 'bonding',\n",
       " 'bone',\n",
       " 'bonus',\n",
       " 'bonuses',\n",
       " 'boobs',\n",
       " 'boogeyman',\n",
       " 'book',\n",
       " 'booking',\n",
       " 'boost',\n",
       " 'boot',\n",
       " 'bop',\n",
       " 'bordered',\n",
       " 'borderlines',\n",
       " 'borders',\n",
       " 'bore',\n",
       " 'bored',\n",
       " 'boring',\n",
       " 'borrowed',\n",
       " 'bose',\n",
       " 'boss',\n",
       " 'both',\n",
       " 'bother',\n",
       " 'bothersome',\n",
       " 'bottom',\n",
       " 'bottowm',\n",
       " 'bouchon',\n",
       " 'bought',\n",
       " 'bougth',\n",
       " 'bowl',\n",
       " 'box',\n",
       " 'boxes',\n",
       " 'boy',\n",
       " 'boyfriend',\n",
       " 'boyle',\n",
       " 'boys',\n",
       " 'brain',\n",
       " 'brainsucking',\n",
       " 'brand',\n",
       " 'brat',\n",
       " 'bread',\n",
       " 'break',\n",
       " 'breakage',\n",
       " 'breakfast',\n",
       " 'breaking',\n",
       " 'breaks',\n",
       " 'breeders',\n",
       " 'breeze',\n",
       " 'brevity',\n",
       " 'brian',\n",
       " 'brick',\n",
       " 'brief',\n",
       " 'brigand',\n",
       " 'bright',\n",
       " 'brilliance',\n",
       " 'brilliant',\n",
       " 'brilliantly',\n",
       " 'bring',\n",
       " 'brings',\n",
       " 'brisket',\n",
       " 'broad',\n",
       " 'broke',\n",
       " 'broken',\n",
       " 'brooding',\n",
       " 'brother',\n",
       " 'brought',\n",
       " 'brownish',\n",
       " 'browser',\n",
       " 'browsing',\n",
       " 'brunch',\n",
       " 'bruschetta',\n",
       " 'brushfire',\n",
       " 'brutal',\n",
       " 'bt',\n",
       " 'bubbling',\n",
       " 'bucks',\n",
       " 'buddy',\n",
       " 'budget',\n",
       " 'buds',\n",
       " 'buffalo',\n",
       " 'buffet',\n",
       " 'buffets',\n",
       " 'bug',\n",
       " 'build',\n",
       " 'builders',\n",
       " 'building',\n",
       " 'buildings',\n",
       " 'built',\n",
       " 'buldogis',\n",
       " 'bulky',\n",
       " 'bullock',\n",
       " 'bully',\n",
       " 'bumpers',\n",
       " 'bunch',\n",
       " 'burger',\n",
       " 'burgers',\n",
       " 'burned',\n",
       " 'burrittos',\n",
       " 'burton',\n",
       " 'bus',\n",
       " 'business',\n",
       " 'businesses',\n",
       " 'bussell',\n",
       " 'busy',\n",
       " 'but',\n",
       " 'butter',\n",
       " 'button',\n",
       " 'buttons',\n",
       " 'buy',\n",
       " 'buyer',\n",
       " 'buyers',\n",
       " 'buying',\n",
       " 'buyit',\n",
       " 'buzzing',\n",
       " 'by',\n",
       " 'bye',\n",
       " 'ca',\n",
       " 'caballero',\n",
       " 'cable',\n",
       " 'cables',\n",
       " 'caesar',\n",
       " 'cafe',\n",
       " 'caf茅',\n",
       " 'cailles',\n",
       " 'cake',\n",
       " 'cakes',\n",
       " 'calamari',\n",
       " 'calendar',\n",
       " 'california',\n",
       " 'call',\n",
       " 'called',\n",
       " 'calligraphy',\n",
       " 'callings',\n",
       " 'calls',\n",
       " 'came',\n",
       " 'camelback',\n",
       " 'cameo',\n",
       " 'camera',\n",
       " 'camerawork',\n",
       " 'camp',\n",
       " 'campy',\n",
       " 'can',\n",
       " 'canada',\n",
       " 'canal',\n",
       " 'cancan',\n",
       " 'cancellation',\n",
       " 'cancelling',\n",
       " 'candace',\n",
       " 'candle',\n",
       " 'cannoli',\n",
       " 'cannot',\n",
       " 'cant',\n",
       " 'capability',\n",
       " 'capacity',\n",
       " 'cape',\n",
       " 'capers',\n",
       " 'captain',\n",
       " 'captured',\n",
       " 'captures',\n",
       " 'car',\n",
       " 'carbs',\n",
       " 'card',\n",
       " 'cardboard',\n",
       " 'cardellini',\n",
       " 'care',\n",
       " 'careful',\n",
       " 'caring',\n",
       " 'carly',\n",
       " 'carol',\n",
       " 'carpaccio',\n",
       " 'carrell',\n",
       " 'carried',\n",
       " 'carriers',\n",
       " 'carries',\n",
       " 'carry',\n",
       " 'cars',\n",
       " 'cart',\n",
       " 'cartel',\n",
       " 'cartoon',\n",
       " 'cartoons',\n",
       " 'case',\n",
       " 'cases',\n",
       " 'cash',\n",
       " 'cashew',\n",
       " 'cashier',\n",
       " 'casing',\n",
       " 'casino',\n",
       " 'cassette',\n",
       " 'cast',\n",
       " 'casted',\n",
       " 'casting',\n",
       " 'cat',\n",
       " 'catching',\n",
       " 'catchy',\n",
       " 'caterpillar',\n",
       " 'caught',\n",
       " 'cause',\n",
       " 'caused',\n",
       " 'causing',\n",
       " 'cavier',\n",
       " 'cbr',\n",
       " 'cds',\n",
       " 'ceases',\n",
       " 'celebration',\n",
       " 'celebrity',\n",
       " 'cell',\n",
       " 'cellphone',\n",
       " 'cellphones',\n",
       " 'cellular',\n",
       " 'celluloid',\n",
       " 'cent',\n",
       " 'center',\n",
       " 'centers',\n",
       " 'central',\n",
       " 'century',\n",
       " 'certain',\n",
       " 'certainly',\n",
       " 'cg',\n",
       " 'cgi',\n",
       " 'chai',\n",
       " 'chains',\n",
       " 'chalkboard',\n",
       " 'challenges',\n",
       " 'chance',\n",
       " 'change',\n",
       " 'changes',\n",
       " 'changing',\n",
       " 'channel',\n",
       " 'char',\n",
       " 'character',\n",
       " 'characterisation',\n",
       " 'characters',\n",
       " 'charcoal',\n",
       " 'charge',\n",
       " 'charged',\n",
       " 'charger',\n",
       " 'chargers',\n",
       " 'charges',\n",
       " 'charging',\n",
       " 'charisma',\n",
       " 'charismatic',\n",
       " 'charles',\n",
       " 'charlie',\n",
       " 'charm',\n",
       " 'charming',\n",
       " 'chase',\n",
       " 'chasing',\n",
       " 'cheap',\n",
       " 'cheaper',\n",
       " 'cheaply',\n",
       " 'cheapy',\n",
       " 'cheated',\n",
       " 'check',\n",
       " 'checked',\n",
       " 'checking',\n",
       " 'cheek',\n",
       " 'cheekbones',\n",
       " 'cheerfull',\n",
       " 'cheerless',\n",
       " 'cheese',\n",
       " 'cheeseburger',\n",
       " 'cheesecurds',\n",
       " 'cheesiness',\n",
       " 'cheesy',\n",
       " 'chef',\n",
       " 'chefs',\n",
       " 'chemistry',\n",
       " 'chewy',\n",
       " 'chick',\n",
       " 'chicken',\n",
       " 'chickens',\n",
       " 'child',\n",
       " 'childhood',\n",
       " 'children',\n",
       " 'childrens',\n",
       " 'chills',\n",
       " 'chilly',\n",
       " 'chimp',\n",
       " 'china',\n",
       " 'chinese',\n",
       " 'chip',\n",
       " 'chipolte',\n",
       " 'chipotle',\n",
       " 'chips',\n",
       " 'chocolate',\n",
       " 'chodorov',\n",
       " 'choice',\n",
       " 'choices',\n",
       " 'choked',\n",
       " 'choose',\n",
       " 'chosen',\n",
       " 'choux',\n",
       " 'chow',\n",
       " 'christmas',\n",
       " 'christopher',\n",
       " 'church',\n",
       " 'cibo',\n",
       " 'cinema',\n",
       " 'cinematic',\n",
       " 'cinematographers',\n",
       " 'cinematography',\n",
       " 'cingulair',\n",
       " 'cingular',\n",
       " 'circumstances',\n",
       " 'claimed',\n",
       " 'clarity',\n",
       " 'class',\n",
       " 'classic',\n",
       " 'classical',\n",
       " 'classics',\n",
       " 'classy',\n",
       " 'clean',\n",
       " 'clear',\n",
       " 'clearer',\n",
       " 'clearly',\n",
       " 'clever',\n",
       " 'cliche',\n",
       " 'clich茅s',\n",
       " 'clicks',\n",
       " 'clients',\n",
       " 'cliff',\n",
       " 'climax',\n",
       " 'climbing',\n",
       " 'clip',\n",
       " 'clipping',\n",
       " 'clips',\n",
       " 'clock',\n",
       " 'close',\n",
       " 'closed',\n",
       " 'clothes',\n",
       " 'club',\n",
       " 'clue',\n",
       " 'co',\n",
       " 'coach',\n",
       " 'coal',\n",
       " 'coastal',\n",
       " 'coaster',\n",
       " 'cocktail',\n",
       " 'cocktails',\n",
       " 'coconut',\n",
       " 'cod',\n",
       " 'coffee',\n",
       " 'coherent',\n",
       " 'cold',\n",
       " 'colder',\n",
       " 'cole',\n",
       " 'colleague',\n",
       " 'collect',\n",
       " 'collective',\n",
       " 'college',\n",
       " 'color',\n",
       " 'colored',\n",
       " 'colorful',\n",
       " 'colors',\n",
       " 'colours',\n",
       " 'columbo',\n",
       " 'combination',\n",
       " 'combo',\n",
       " 'combos',\n",
       " 'come',\n",
       " 'comedic',\n",
       " 'comedy',\n",
       " 'comes',\n",
       " 'comfort',\n",
       " 'comfortable',\n",
       " 'comfortably',\n",
       " 'comfortible',\n",
       " 'comforting',\n",
       " 'comical',\n",
       " 'coming',\n",
       " 'commands',\n",
       " 'comment',\n",
       " 'commentary',\n",
       " 'commented',\n",
       " 'comments',\n",
       " 'commercial',\n",
       " 'commercials',\n",
       " 'common',\n",
       " 'communicate',\n",
       " 'communication',\n",
       " 'communications',\n",
       " 'community',\n",
       " 'commuter',\n",
       " 'companions',\n",
       " 'company',\n",
       " 'comparably',\n",
       " 'compared',\n",
       " 'compelling',\n",
       " 'compete',\n",
       " 'competent',\n",
       " 'competitors',\n",
       " 'complain',\n",
       " 'complained',\n",
       " 'complaint',\n",
       " 'complaints',\n",
       " 'complete',\n",
       " 'completed',\n",
       " 'completely',\n",
       " 'complex',\n",
       " 'complexity',\n",
       " 'compliments',\n",
       " 'composed',\n",
       " 'composition',\n",
       " 'comprehensible',\n",
       " 'compromise',\n",
       " 'computer',\n",
       " 'con',\n",
       " 'concentrate',\n",
       " 'concept',\n",
       " 'conception',\n",
       " 'conceptually',\n",
       " 'concern',\n",
       " 'concerning',\n",
       " 'concerns',\n",
       " 'concert',\n",
       " 'conclusion',\n",
       " 'concrete',\n",
       " 'condescends',\n",
       " 'condiment',\n",
       " 'conditions',\n",
       " 'confidence',\n",
       " 'configuration',\n",
       " 'confirm',\n",
       " 'conflict',\n",
       " 'confortable',\n",
       " 'confuses',\n",
       " 'confusing',\n",
       " 'connect',\n",
       " 'connected',\n",
       " 'connecting',\n",
       " 'connection',\n",
       " 'connections',\n",
       " 'connery',\n",
       " 'connisseur',\n",
       " 'connoisseur',\n",
       " 'connor',\n",
       " 'conrad',\n",
       " 'consequences',\n",
       " 'consider',\n",
       " 'considerable',\n",
       " 'considered',\n",
       " 'considering',\n",
       " 'considers',\n",
       " 'consistent',\n",
       " 'consolations',\n",
       " 'constant',\n",
       " 'constantine',\n",
       " 'constantly',\n",
       " 'constructed',\n",
       " 'construction',\n",
       " 'consumer',\n",
       " 'contact',\n",
       " 'contacted',\n",
       " 'contacting',\n",
       " 'contacts',\n",
       " 'contain',\n",
       " 'contained',\n",
       " 'containers',\n",
       " 'containing',\n",
       " 'contains',\n",
       " 'content',\n",
       " 'continually',\n",
       " 'continuation',\n",
       " 'continue',\n",
       " 'continues',\n",
       " 'continuity',\n",
       " 'continuously',\n",
       " 'contract',\n",
       " 'contrast',\n",
       " 'contributing',\n",
       " 'contributory',\n",
       " 'contrived',\n",
       " 'control',\n",
       " 'controls',\n",
       " 'controversy',\n",
       " 'contstruct',\n",
       " 'convenient',\n",
       " 'convention',\n",
       " 'conversation',\n",
       " 'conversations',\n",
       " 'converter',\n",
       " 'convey',\n",
       " 'convince',\n",
       " 'convincing',\n",
       " 'convoluted',\n",
       " 'cook',\n",
       " 'cooked',\n",
       " 'cooking',\n",
       " 'cool',\n",
       " 'copier',\n",
       " 'coppola',\n",
       " 'copy',\n",
       " 'corded',\n",
       " 'cords',\n",
       " 'core',\n",
       " 'corn',\n",
       " 'corny',\n",
       " 'corporation',\n",
       " 'correct',\n",
       " 'correction',\n",
       " 'correctly',\n",
       " 'cost',\n",
       " 'costco',\n",
       " 'costs',\n",
       " 'costumes',\n",
       " 'cotta',\n",
       " 'cotton',\n",
       " 'could',\n",
       " 'couldn',\n",
       " 'couldnt',\n",
       " 'count',\n",
       " 'counter',\n",
       " 'counterfeit',\n",
       " 'couple',\n",
       " 'couples',\n",
       " 'coupon',\n",
       " 'coupons',\n",
       " 'course',\n",
       " 'court',\n",
       " 'courteous',\n",
       " 'courtroom',\n",
       " 'cover',\n",
       " 'coverage',\n",
       " 'covered',\n",
       " 'covers',\n",
       " 'cow',\n",
       " 'cowardice',\n",
       " 'cox',\n",
       " 'coziness',\n",
       " 'crab',\n",
       " 'crack',\n",
       " 'cracked',\n",
       " 'crackles',\n",
       " 'cradle',\n",
       " 'cradles',\n",
       " 'crafted',\n",
       " 'cramming',\n",
       " 'cranberry',\n",
       " 'crap',\n",
       " ...]"
      ]
     },
     "execution_count": 170,
     "metadata": {},
     "output_type": "execute_result"
    }
   ],
   "source": [
    "list1"
   ]
  },
  {
   "cell_type": "code",
   "execution_count": 154,
   "metadata": {
    "collapsed": false
   },
   "outputs": [
    {
     "data": {
      "text/plain": [
       "9000"
      ]
     },
     "execution_count": 154,
     "metadata": {},
     "output_type": "execute_result"
    }
   ],
   "source": [
    "len(vocab)"
   ]
  },
  {
   "cell_type": "code",
   "execution_count": 169,
   "metadata": {
    "collapsed": false
   },
   "outputs": [
    {
     "data": {
      "text/plain": [
       "list"
      ]
     },
     "execution_count": 169,
     "metadata": {},
     "output_type": "execute_result"
    }
   ],
   "source": [
    "type(list1)"
   ]
  },
  {
   "cell_type": "code",
   "execution_count": null,
   "metadata": {
    "collapsed": true
   },
   "outputs": [],
   "source": []
  }
 ],
 "metadata": {
  "anaconda-cloud": {},
  "kernelspec": {
   "display_name": "Python [default]",
   "language": "python",
   "name": "python3"
  },
  "language_info": {
   "codemirror_mode": {
    "name": "ipython",
    "version": 3
   },
   "file_extension": ".py",
   "mimetype": "text/x-python",
   "name": "python",
   "nbconvert_exporter": "python",
   "pygments_lexer": "ipython3",
   "version": "3.5.2"
  }
 },
 "nbformat": 4,
 "nbformat_minor": 1
}
