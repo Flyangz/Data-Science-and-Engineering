{
 "cells": [
  {
   "cell_type": "markdown",
   "metadata": {},
   "source": [
    "LogGenerator"
   ]
  },
  {
   "cell_type": "code",
   "execution_count": 41,
   "metadata": {},
   "outputs": [],
   "source": [
    "#coding=UTF-8 开发时加上\n",
    "import random\n",
    "import time"
   ]
  },
  {
   "cell_type": "code",
   "execution_count": 44,
   "metadata": {},
   "outputs": [],
   "source": [
    "url_paths = [\n",
    "    \"class/112.html\",\n",
    "    \"class/128.html\",\n",
    "    \"class/145.html\",\n",
    "    \"class/116.html\",\n",
    "    \"class/131.html\",\n",
    "    \"class/130.html\",\n",
    "    \"learn/821\",\n",
    "    \"course/list\"\n",
    "]\n",
    "\n",
    "ip_slices = [132,156,124,10,29,167,143,187,30,46,55,63,72,87,98,168]\n",
    "\n",
    "http_reference = [\n",
    "    \"http://www.baidu.com/s?wd={query}\",\n",
    "    \"http://www.sogou.com/web?query={query}\",\n",
    "    \"https://cn.bing.com/search?q={query}\",\n",
    "    \"http://search.yahoo.com/search?p={query}\"\n",
    "]\n",
    "\n",
    "search_keyword = [\n",
    "    \"Spark SQL 实战\",\n",
    "    \"Hadoop基础\",\n",
    "    \"Storm实战\",\n",
    "    \"Spark Streaming实战\",\n",
    "    \"大数据面试\"\n",
    "]\n",
    "\n",
    "status_codes = [\"200\", \"404\", \"500\""
   ]
  },
  {
   "cell_type": "code",
   "execution_count": 57,
   "metadata": {},
   "outputs": [],
   "source": [
    "def sample_url():\n",
    "    return random.sample(url_paths, 1)[0]\n",
    "\n",
    "def sample_ip():\n",
    "    slice = random.sample(ip_slices, 4)\n",
    "    return \".\".join([str(item) for item in slice])\n",
    "\n",
    "def sample_reference():\n",
    "    if random.uniform(0, 1) > 0.2:\n",
    "        return \"-\"\n",
    "    refer_str = random.sample(http_reference, 1)\n",
    "    query_str = random.sample(search_keyword, 1)\n",
    "    return refer_str[0].format(query=query_str[0])\n",
    "\n",
    "def sample_status_code():\n",
    "    return random.sample(status_codes, 1)[0]\n",
    "\n",
    "def generate_log(count = 10):\n",
    "    time_str = time.strftime(\"%Y-%m-%d %H:%M:%S\", time.localtime())\n",
    "    \n",
    "    f = open(\"/Users/flyang/test/log_generator.log\", \"w+\")\n",
    "    while count >= 1:\n",
    "        query_log = \"{ip}\\t{time}\\t\\\"GET /{url} HTTP/1.1\\\"\\t{stat}\\t{ref}\".\\\n",
    "        format(url=sample_url(), ip=sample_ip(), ref=sample_reference(), stat=sample_status_code(), time=time_str)\n",
    "        print(query_log)\n",
    "        f.write(query_log + \"\\n\")\n",
    "        count = count-1"
   ]
  },
  {
   "cell_type": "code",
   "execution_count": 58,
   "metadata": {},
   "outputs": [
    {
     "name": "stdout",
     "output_type": "stream",
     "text": [
      "124.72.46.29\t2018-08-21 17:08:56\t\"GET /class/145.html HTTP/1.1\"\t404\t-\n",
      "29.46.72.124\t2018-08-21 17:08:56\t\"GET /class/128.html HTTP/1.1\"\t404\thttp://www.baidu.com/s?wd=Storm实战\n",
      "63.87.72.132\t2018-08-21 17:08:56\t\"GET /class/116.html HTTP/1.1\"\t404\t-\n",
      "63.46.30.187\t2018-08-21 17:08:56\t\"GET /class/128.html HTTP/1.1\"\t200\t-\n",
      "132.124.187.55\t2018-08-21 17:08:56\t\"GET /course/list HTTP/1.1\"\t200\t-\n",
      "63.167.30.143\t2018-08-21 17:08:56\t\"GET /class/128.html HTTP/1.1\"\t200\t-\n",
      "167.10.87.72\t2018-08-21 17:08:56\t\"GET /class/131.html HTTP/1.1\"\t500\t-\n",
      "168.187.167.124\t2018-08-21 17:08:56\t\"GET /learn/821 HTTP/1.1\"\t404\t-\n",
      "30.167.168.132\t2018-08-21 17:08:56\t\"GET /class/112.html HTTP/1.1\"\t404\t-\n",
      "132.98.124.30\t2018-08-21 17:08:56\t\"GET /class/128.html HTTP/1.1\"\t404\thttp://www.baidu.com/s?wd=Storm实战\n"
     ]
    }
   ],
   "source": [
    "if __name__ == '__main__':\n",
    "    generate_log()"
   ]
  },
  {
   "cell_type": "code",
   "execution_count": null,
   "metadata": {},
   "outputs": [],
   "source": [
    "crontab -e \n",
    "*/1 * * * * /Users/flyang/log_genertor.sh"
   ]
  }
 ],
 "metadata": {
  "kernelspec": {
   "display_name": "Python 3",
   "language": "python",
   "name": "python3"
  },
  "language_info": {
   "codemirror_mode": {
    "name": "ipython",
    "version": 3
   },
   "file_extension": ".py",
   "mimetype": "text/x-python",
   "name": "python",
   "nbconvert_exporter": "python",
   "pygments_lexer": "ipython3",
   "version": "3.6.5"
  }
 },
 "nbformat": 4,
 "nbformat_minor": 2
}
